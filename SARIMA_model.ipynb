{
  "nbformat": 4,
  "nbformat_minor": 0,
  "metadata": {
    "colab": {
      "name": "SARIMA model.ipynb",
      "provenance": [],
      "collapsed_sections": [],
      "include_colab_link": true
    },
    "kernelspec": {
      "name": "python3",
      "display_name": "Python 3"
    },
    "language_info": {
      "name": "python"
    }
  },
  "cells": [
    {
      "cell_type": "markdown",
      "metadata": {
        "id": "view-in-github",
        "colab_type": "text"
      },
      "source": [
        "<a href=\"https://colab.research.google.com/github/NiteeshSingh/DS-303-Course-Project/blob/main/SARIMA_model.ipynb\" target=\"_parent\"><img src=\"https://colab.research.google.com/assets/colab-badge.svg\" alt=\"Open In Colab\"/></a>"
      ]
    },
    {
      "cell_type": "code",
      "execution_count": null,
      "metadata": {
        "id": "0cx0tYxpKV41"
      },
      "outputs": [],
      "source": [
        "import pandas as pd\n",
        "import numpy as np\n",
        "import matplotlib.pyplot as plt\n",
        "import seaborn as sns\n",
        "from pandas.plotting import register_matplotlib_converters\n",
        "register_matplotlib_converters()\n",
        "%matplotlib inline"
      ]
    },
    {
      "cell_type": "code",
      "source": [
        "dataset = pd.read_csv('/content/drive/MyDrive/AAPL.csv')"
      ],
      "metadata": {
        "id": "nJ2i8_mRMtL0"
      },
      "execution_count": null,
      "outputs": []
    },
    {
      "cell_type": "code",
      "source": [
        "dataset.head(2)"
      ],
      "metadata": {
        "colab": {
          "base_uri": "https://localhost:8080/",
          "height": 112
        },
        "id": "lBxy1ax9M01e",
        "outputId": "be330548-0039-4bee-8ff3-5ac55ec88927"
      },
      "execution_count": null,
      "outputs": [
        {
          "output_type": "execute_result",
          "data": {
            "text/plain": [
              "         Date      Open      High       Low     Close  Adj Close      Volume\n",
              "0  2008-10-01  3.997143  4.012857  3.835357  3.897143   3.337023  1296484000\n",
              "1  2008-10-02  3.857500  3.885357  3.571429  3.575000   3.061180  1609364400"
            ],
            "text/html": [
              "\n",
              "  <div id=\"df-78d07c1c-1578-4928-a58c-fa2e71ba2974\">\n",
              "    <div class=\"colab-df-container\">\n",
              "      <div>\n",
              "<style scoped>\n",
              "    .dataframe tbody tr th:only-of-type {\n",
              "        vertical-align: middle;\n",
              "    }\n",
              "\n",
              "    .dataframe tbody tr th {\n",
              "        vertical-align: top;\n",
              "    }\n",
              "\n",
              "    .dataframe thead th {\n",
              "        text-align: right;\n",
              "    }\n",
              "</style>\n",
              "<table border=\"1\" class=\"dataframe\">\n",
              "  <thead>\n",
              "    <tr style=\"text-align: right;\">\n",
              "      <th></th>\n",
              "      <th>Date</th>\n",
              "      <th>Open</th>\n",
              "      <th>High</th>\n",
              "      <th>Low</th>\n",
              "      <th>Close</th>\n",
              "      <th>Adj Close</th>\n",
              "      <th>Volume</th>\n",
              "    </tr>\n",
              "  </thead>\n",
              "  <tbody>\n",
              "    <tr>\n",
              "      <th>0</th>\n",
              "      <td>2008-10-01</td>\n",
              "      <td>3.997143</td>\n",
              "      <td>4.012857</td>\n",
              "      <td>3.835357</td>\n",
              "      <td>3.897143</td>\n",
              "      <td>3.337023</td>\n",
              "      <td>1296484000</td>\n",
              "    </tr>\n",
              "    <tr>\n",
              "      <th>1</th>\n",
              "      <td>2008-10-02</td>\n",
              "      <td>3.857500</td>\n",
              "      <td>3.885357</td>\n",
              "      <td>3.571429</td>\n",
              "      <td>3.575000</td>\n",
              "      <td>3.061180</td>\n",
              "      <td>1609364400</td>\n",
              "    </tr>\n",
              "  </tbody>\n",
              "</table>\n",
              "</div>\n",
              "      <button class=\"colab-df-convert\" onclick=\"convertToInteractive('df-78d07c1c-1578-4928-a58c-fa2e71ba2974')\"\n",
              "              title=\"Convert this dataframe to an interactive table.\"\n",
              "              style=\"display:none;\">\n",
              "        \n",
              "  <svg xmlns=\"http://www.w3.org/2000/svg\" height=\"24px\"viewBox=\"0 0 24 24\"\n",
              "       width=\"24px\">\n",
              "    <path d=\"M0 0h24v24H0V0z\" fill=\"none\"/>\n",
              "    <path d=\"M18.56 5.44l.94 2.06.94-2.06 2.06-.94-2.06-.94-.94-2.06-.94 2.06-2.06.94zm-11 1L8.5 8.5l.94-2.06 2.06-.94-2.06-.94L8.5 2.5l-.94 2.06-2.06.94zm10 10l.94 2.06.94-2.06 2.06-.94-2.06-.94-.94-2.06-.94 2.06-2.06.94z\"/><path d=\"M17.41 7.96l-1.37-1.37c-.4-.4-.92-.59-1.43-.59-.52 0-1.04.2-1.43.59L10.3 9.45l-7.72 7.72c-.78.78-.78 2.05 0 2.83L4 21.41c.39.39.9.59 1.41.59.51 0 1.02-.2 1.41-.59l7.78-7.78 2.81-2.81c.8-.78.8-2.07 0-2.86zM5.41 20L4 18.59l7.72-7.72 1.47 1.35L5.41 20z\"/>\n",
              "  </svg>\n",
              "      </button>\n",
              "      \n",
              "  <style>\n",
              "    .colab-df-container {\n",
              "      display:flex;\n",
              "      flex-wrap:wrap;\n",
              "      gap: 12px;\n",
              "    }\n",
              "\n",
              "    .colab-df-convert {\n",
              "      background-color: #E8F0FE;\n",
              "      border: none;\n",
              "      border-radius: 50%;\n",
              "      cursor: pointer;\n",
              "      display: none;\n",
              "      fill: #1967D2;\n",
              "      height: 32px;\n",
              "      padding: 0 0 0 0;\n",
              "      width: 32px;\n",
              "    }\n",
              "\n",
              "    .colab-df-convert:hover {\n",
              "      background-color: #E2EBFA;\n",
              "      box-shadow: 0px 1px 2px rgba(60, 64, 67, 0.3), 0px 1px 3px 1px rgba(60, 64, 67, 0.15);\n",
              "      fill: #174EA6;\n",
              "    }\n",
              "\n",
              "    [theme=dark] .colab-df-convert {\n",
              "      background-color: #3B4455;\n",
              "      fill: #D2E3FC;\n",
              "    }\n",
              "\n",
              "    [theme=dark] .colab-df-convert:hover {\n",
              "      background-color: #434B5C;\n",
              "      box-shadow: 0px 1px 3px 1px rgba(0, 0, 0, 0.15);\n",
              "      filter: drop-shadow(0px 1px 2px rgba(0, 0, 0, 0.3));\n",
              "      fill: #FFFFFF;\n",
              "    }\n",
              "  </style>\n",
              "\n",
              "      <script>\n",
              "        const buttonEl =\n",
              "          document.querySelector('#df-78d07c1c-1578-4928-a58c-fa2e71ba2974 button.colab-df-convert');\n",
              "        buttonEl.style.display =\n",
              "          google.colab.kernel.accessAllowed ? 'block' : 'none';\n",
              "\n",
              "        async function convertToInteractive(key) {\n",
              "          const element = document.querySelector('#df-78d07c1c-1578-4928-a58c-fa2e71ba2974');\n",
              "          const dataTable =\n",
              "            await google.colab.kernel.invokeFunction('convertToInteractive',\n",
              "                                                     [key], {});\n",
              "          if (!dataTable) return;\n",
              "\n",
              "          const docLinkHtml = 'Like what you see? Visit the ' +\n",
              "            '<a target=\"_blank\" href=https://colab.research.google.com/notebooks/data_table.ipynb>data table notebook</a>'\n",
              "            + ' to learn more about interactive tables.';\n",
              "          element.innerHTML = '';\n",
              "          dataTable['output_type'] = 'display_data';\n",
              "          await google.colab.output.renderOutput(dataTable, element);\n",
              "          const docLink = document.createElement('div');\n",
              "          docLink.innerHTML = docLinkHtml;\n",
              "          element.appendChild(docLink);\n",
              "        }\n",
              "      </script>\n",
              "    </div>\n",
              "  </div>\n",
              "  "
            ]
          },
          "metadata": {},
          "execution_count": 25
        }
      ]
    },
    {
      "cell_type": "code",
      "source": [
        "dataset['Mean'] = (dataset['Low'] + dataset['High'])/2\n"
      ],
      "metadata": {
        "id": "U4wu7g2mM1D5"
      },
      "execution_count": null,
      "outputs": []
    },
    {
      "cell_type": "code",
      "source": [
        "dataset.head(2)"
      ],
      "metadata": {
        "colab": {
          "base_uri": "https://localhost:8080/",
          "height": 112
        },
        "id": "g87B1ktkM1qL",
        "outputId": "18d889f2-c52c-4ffb-9fa9-35f2e607beb5"
      },
      "execution_count": null,
      "outputs": [
        {
          "output_type": "execute_result",
          "data": {
            "text/plain": [
              "         Date      Open      High       Low     Close  Adj Close      Volume  \\\n",
              "0  2008-10-01  3.997143  4.012857  3.835357  3.897143   3.337023  1296484000   \n",
              "1  2008-10-02  3.857500  3.885357  3.571429  3.575000   3.061180  1609364400   \n",
              "\n",
              "       Mean  \n",
              "0  3.924107  \n",
              "1  3.728393  "
            ],
            "text/html": [
              "\n",
              "  <div id=\"df-f78a71b8-8461-4db5-9e4e-be19180c6878\">\n",
              "    <div class=\"colab-df-container\">\n",
              "      <div>\n",
              "<style scoped>\n",
              "    .dataframe tbody tr th:only-of-type {\n",
              "        vertical-align: middle;\n",
              "    }\n",
              "\n",
              "    .dataframe tbody tr th {\n",
              "        vertical-align: top;\n",
              "    }\n",
              "\n",
              "    .dataframe thead th {\n",
              "        text-align: right;\n",
              "    }\n",
              "</style>\n",
              "<table border=\"1\" class=\"dataframe\">\n",
              "  <thead>\n",
              "    <tr style=\"text-align: right;\">\n",
              "      <th></th>\n",
              "      <th>Date</th>\n",
              "      <th>Open</th>\n",
              "      <th>High</th>\n",
              "      <th>Low</th>\n",
              "      <th>Close</th>\n",
              "      <th>Adj Close</th>\n",
              "      <th>Volume</th>\n",
              "      <th>Mean</th>\n",
              "    </tr>\n",
              "  </thead>\n",
              "  <tbody>\n",
              "    <tr>\n",
              "      <th>0</th>\n",
              "      <td>2008-10-01</td>\n",
              "      <td>3.997143</td>\n",
              "      <td>4.012857</td>\n",
              "      <td>3.835357</td>\n",
              "      <td>3.897143</td>\n",
              "      <td>3.337023</td>\n",
              "      <td>1296484000</td>\n",
              "      <td>3.924107</td>\n",
              "    </tr>\n",
              "    <tr>\n",
              "      <th>1</th>\n",
              "      <td>2008-10-02</td>\n",
              "      <td>3.857500</td>\n",
              "      <td>3.885357</td>\n",
              "      <td>3.571429</td>\n",
              "      <td>3.575000</td>\n",
              "      <td>3.061180</td>\n",
              "      <td>1609364400</td>\n",
              "      <td>3.728393</td>\n",
              "    </tr>\n",
              "  </tbody>\n",
              "</table>\n",
              "</div>\n",
              "      <button class=\"colab-df-convert\" onclick=\"convertToInteractive('df-f78a71b8-8461-4db5-9e4e-be19180c6878')\"\n",
              "              title=\"Convert this dataframe to an interactive table.\"\n",
              "              style=\"display:none;\">\n",
              "        \n",
              "  <svg xmlns=\"http://www.w3.org/2000/svg\" height=\"24px\"viewBox=\"0 0 24 24\"\n",
              "       width=\"24px\">\n",
              "    <path d=\"M0 0h24v24H0V0z\" fill=\"none\"/>\n",
              "    <path d=\"M18.56 5.44l.94 2.06.94-2.06 2.06-.94-2.06-.94-.94-2.06-.94 2.06-2.06.94zm-11 1L8.5 8.5l.94-2.06 2.06-.94-2.06-.94L8.5 2.5l-.94 2.06-2.06.94zm10 10l.94 2.06.94-2.06 2.06-.94-2.06-.94-.94-2.06-.94 2.06-2.06.94z\"/><path d=\"M17.41 7.96l-1.37-1.37c-.4-.4-.92-.59-1.43-.59-.52 0-1.04.2-1.43.59L10.3 9.45l-7.72 7.72c-.78.78-.78 2.05 0 2.83L4 21.41c.39.39.9.59 1.41.59.51 0 1.02-.2 1.41-.59l7.78-7.78 2.81-2.81c.8-.78.8-2.07 0-2.86zM5.41 20L4 18.59l7.72-7.72 1.47 1.35L5.41 20z\"/>\n",
              "  </svg>\n",
              "      </button>\n",
              "      \n",
              "  <style>\n",
              "    .colab-df-container {\n",
              "      display:flex;\n",
              "      flex-wrap:wrap;\n",
              "      gap: 12px;\n",
              "    }\n",
              "\n",
              "    .colab-df-convert {\n",
              "      background-color: #E8F0FE;\n",
              "      border: none;\n",
              "      border-radius: 50%;\n",
              "      cursor: pointer;\n",
              "      display: none;\n",
              "      fill: #1967D2;\n",
              "      height: 32px;\n",
              "      padding: 0 0 0 0;\n",
              "      width: 32px;\n",
              "    }\n",
              "\n",
              "    .colab-df-convert:hover {\n",
              "      background-color: #E2EBFA;\n",
              "      box-shadow: 0px 1px 2px rgba(60, 64, 67, 0.3), 0px 1px 3px 1px rgba(60, 64, 67, 0.15);\n",
              "      fill: #174EA6;\n",
              "    }\n",
              "\n",
              "    [theme=dark] .colab-df-convert {\n",
              "      background-color: #3B4455;\n",
              "      fill: #D2E3FC;\n",
              "    }\n",
              "\n",
              "    [theme=dark] .colab-df-convert:hover {\n",
              "      background-color: #434B5C;\n",
              "      box-shadow: 0px 1px 3px 1px rgba(0, 0, 0, 0.15);\n",
              "      filter: drop-shadow(0px 1px 2px rgba(0, 0, 0, 0.3));\n",
              "      fill: #FFFFFF;\n",
              "    }\n",
              "  </style>\n",
              "\n",
              "      <script>\n",
              "        const buttonEl =\n",
              "          document.querySelector('#df-f78a71b8-8461-4db5-9e4e-be19180c6878 button.colab-df-convert');\n",
              "        buttonEl.style.display =\n",
              "          google.colab.kernel.accessAllowed ? 'block' : 'none';\n",
              "\n",
              "        async function convertToInteractive(key) {\n",
              "          const element = document.querySelector('#df-f78a71b8-8461-4db5-9e4e-be19180c6878');\n",
              "          const dataTable =\n",
              "            await google.colab.kernel.invokeFunction('convertToInteractive',\n",
              "                                                     [key], {});\n",
              "          if (!dataTable) return;\n",
              "\n",
              "          const docLinkHtml = 'Like what you see? Visit the ' +\n",
              "            '<a target=\"_blank\" href=https://colab.research.google.com/notebooks/data_table.ipynb>data table notebook</a>'\n",
              "            + ' to learn more about interactive tables.';\n",
              "          element.innerHTML = '';\n",
              "          dataTable['output_type'] = 'display_data';\n",
              "          await google.colab.output.renderOutput(dataTable, element);\n",
              "          const docLink = document.createElement('div');\n",
              "          docLink.innerHTML = docLinkHtml;\n",
              "          element.appendChild(docLink);\n",
              "        }\n",
              "      </script>\n",
              "    </div>\n",
              "  </div>\n",
              "  "
            ]
          },
          "metadata": {},
          "execution_count": 27
        }
      ]
    },
    {
      "cell_type": "code",
      "source": [
        "dataset.info()"
      ],
      "metadata": {
        "colab": {
          "base_uri": "https://localhost:8080/"
        },
        "id": "n2O1dCngRcKL",
        "outputId": "bb875aac-7214-4da9-fd89-869d9e93838f"
      },
      "execution_count": null,
      "outputs": [
        {
          "output_type": "stream",
          "name": "stdout",
          "text": [
            "<class 'pandas.core.frame.DataFrame'>\n",
            "RangeIndex: 2768 entries, 0 to 2767\n",
            "Data columns (total 8 columns):\n",
            " #   Column     Non-Null Count  Dtype  \n",
            "---  ------     --------------  -----  \n",
            " 0   Date       2768 non-null   object \n",
            " 1   Open       2768 non-null   float64\n",
            " 2   High       2768 non-null   float64\n",
            " 3   Low        2768 non-null   float64\n",
            " 4   Close      2768 non-null   float64\n",
            " 5   Adj Close  2768 non-null   float64\n",
            " 6   Volume     2768 non-null   int64  \n",
            " 7   Mean       2768 non-null   float64\n",
            "dtypes: float64(6), int64(1), object(1)\n",
            "memory usage: 173.1+ KB\n"
          ]
        }
      ]
    },
    {
      "cell_type": "code",
      "source": [
        "steps=-1\n",
        "dataset_for_prediction= dataset.copy()\n",
        "dataset_for_prediction['Actual']=dataset_for_prediction['Mean'].shift(steps)\n",
        "dataset_for_prediction.head(3)"
      ],
      "metadata": {
        "colab": {
          "base_uri": "https://localhost:8080/",
          "height": 143
        },
        "id": "8-mmkQDXRUMX",
        "outputId": "fe1c5e05-2754-476e-fb43-e498251e4431"
      },
      "execution_count": null,
      "outputs": [
        {
          "output_type": "execute_result",
          "data": {
            "text/plain": [
              "         Date      Open      High       Low     Close  Adj Close      Volume  \\\n",
              "0  2008-10-01  3.997143  4.012857  3.835357  3.897143   3.337023  1296484000   \n",
              "1  2008-10-02  3.857500  3.885357  3.571429  3.575000   3.061180  1609364400   \n",
              "2  2008-10-03  3.714286  3.803571  3.380357  3.466786   2.968519  2294398400   \n",
              "\n",
              "       Mean    Actual  \n",
              "0  3.924107  3.728393  \n",
              "1  3.728393  3.591964  \n",
              "2  3.591964  3.327143  "
            ],
            "text/html": [
              "\n",
              "  <div id=\"df-ad340813-be87-4a5e-a03f-e2ac0715f512\">\n",
              "    <div class=\"colab-df-container\">\n",
              "      <div>\n",
              "<style scoped>\n",
              "    .dataframe tbody tr th:only-of-type {\n",
              "        vertical-align: middle;\n",
              "    }\n",
              "\n",
              "    .dataframe tbody tr th {\n",
              "        vertical-align: top;\n",
              "    }\n",
              "\n",
              "    .dataframe thead th {\n",
              "        text-align: right;\n",
              "    }\n",
              "</style>\n",
              "<table border=\"1\" class=\"dataframe\">\n",
              "  <thead>\n",
              "    <tr style=\"text-align: right;\">\n",
              "      <th></th>\n",
              "      <th>Date</th>\n",
              "      <th>Open</th>\n",
              "      <th>High</th>\n",
              "      <th>Low</th>\n",
              "      <th>Close</th>\n",
              "      <th>Adj Close</th>\n",
              "      <th>Volume</th>\n",
              "      <th>Mean</th>\n",
              "      <th>Actual</th>\n",
              "    </tr>\n",
              "  </thead>\n",
              "  <tbody>\n",
              "    <tr>\n",
              "      <th>0</th>\n",
              "      <td>2008-10-01</td>\n",
              "      <td>3.997143</td>\n",
              "      <td>4.012857</td>\n",
              "      <td>3.835357</td>\n",
              "      <td>3.897143</td>\n",
              "      <td>3.337023</td>\n",
              "      <td>1296484000</td>\n",
              "      <td>3.924107</td>\n",
              "      <td>3.728393</td>\n",
              "    </tr>\n",
              "    <tr>\n",
              "      <th>1</th>\n",
              "      <td>2008-10-02</td>\n",
              "      <td>3.857500</td>\n",
              "      <td>3.885357</td>\n",
              "      <td>3.571429</td>\n",
              "      <td>3.575000</td>\n",
              "      <td>3.061180</td>\n",
              "      <td>1609364400</td>\n",
              "      <td>3.728393</td>\n",
              "      <td>3.591964</td>\n",
              "    </tr>\n",
              "    <tr>\n",
              "      <th>2</th>\n",
              "      <td>2008-10-03</td>\n",
              "      <td>3.714286</td>\n",
              "      <td>3.803571</td>\n",
              "      <td>3.380357</td>\n",
              "      <td>3.466786</td>\n",
              "      <td>2.968519</td>\n",
              "      <td>2294398400</td>\n",
              "      <td>3.591964</td>\n",
              "      <td>3.327143</td>\n",
              "    </tr>\n",
              "  </tbody>\n",
              "</table>\n",
              "</div>\n",
              "      <button class=\"colab-df-convert\" onclick=\"convertToInteractive('df-ad340813-be87-4a5e-a03f-e2ac0715f512')\"\n",
              "              title=\"Convert this dataframe to an interactive table.\"\n",
              "              style=\"display:none;\">\n",
              "        \n",
              "  <svg xmlns=\"http://www.w3.org/2000/svg\" height=\"24px\"viewBox=\"0 0 24 24\"\n",
              "       width=\"24px\">\n",
              "    <path d=\"M0 0h24v24H0V0z\" fill=\"none\"/>\n",
              "    <path d=\"M18.56 5.44l.94 2.06.94-2.06 2.06-.94-2.06-.94-.94-2.06-.94 2.06-2.06.94zm-11 1L8.5 8.5l.94-2.06 2.06-.94-2.06-.94L8.5 2.5l-.94 2.06-2.06.94zm10 10l.94 2.06.94-2.06 2.06-.94-2.06-.94-.94-2.06-.94 2.06-2.06.94z\"/><path d=\"M17.41 7.96l-1.37-1.37c-.4-.4-.92-.59-1.43-.59-.52 0-1.04.2-1.43.59L10.3 9.45l-7.72 7.72c-.78.78-.78 2.05 0 2.83L4 21.41c.39.39.9.59 1.41.59.51 0 1.02-.2 1.41-.59l7.78-7.78 2.81-2.81c.8-.78.8-2.07 0-2.86zM5.41 20L4 18.59l7.72-7.72 1.47 1.35L5.41 20z\"/>\n",
              "  </svg>\n",
              "      </button>\n",
              "      \n",
              "  <style>\n",
              "    .colab-df-container {\n",
              "      display:flex;\n",
              "      flex-wrap:wrap;\n",
              "      gap: 12px;\n",
              "    }\n",
              "\n",
              "    .colab-df-convert {\n",
              "      background-color: #E8F0FE;\n",
              "      border: none;\n",
              "      border-radius: 50%;\n",
              "      cursor: pointer;\n",
              "      display: none;\n",
              "      fill: #1967D2;\n",
              "      height: 32px;\n",
              "      padding: 0 0 0 0;\n",
              "      width: 32px;\n",
              "    }\n",
              "\n",
              "    .colab-df-convert:hover {\n",
              "      background-color: #E2EBFA;\n",
              "      box-shadow: 0px 1px 2px rgba(60, 64, 67, 0.3), 0px 1px 3px 1px rgba(60, 64, 67, 0.15);\n",
              "      fill: #174EA6;\n",
              "    }\n",
              "\n",
              "    [theme=dark] .colab-df-convert {\n",
              "      background-color: #3B4455;\n",
              "      fill: #D2E3FC;\n",
              "    }\n",
              "\n",
              "    [theme=dark] .colab-df-convert:hover {\n",
              "      background-color: #434B5C;\n",
              "      box-shadow: 0px 1px 3px 1px rgba(0, 0, 0, 0.15);\n",
              "      filter: drop-shadow(0px 1px 2px rgba(0, 0, 0, 0.3));\n",
              "      fill: #FFFFFF;\n",
              "    }\n",
              "  </style>\n",
              "\n",
              "      <script>\n",
              "        const buttonEl =\n",
              "          document.querySelector('#df-ad340813-be87-4a5e-a03f-e2ac0715f512 button.colab-df-convert');\n",
              "        buttonEl.style.display =\n",
              "          google.colab.kernel.accessAllowed ? 'block' : 'none';\n",
              "\n",
              "        async function convertToInteractive(key) {\n",
              "          const element = document.querySelector('#df-ad340813-be87-4a5e-a03f-e2ac0715f512');\n",
              "          const dataTable =\n",
              "            await google.colab.kernel.invokeFunction('convertToInteractive',\n",
              "                                                     [key], {});\n",
              "          if (!dataTable) return;\n",
              "\n",
              "          const docLinkHtml = 'Like what you see? Visit the ' +\n",
              "            '<a target=\"_blank\" href=https://colab.research.google.com/notebooks/data_table.ipynb>data table notebook</a>'\n",
              "            + ' to learn more about interactive tables.';\n",
              "          element.innerHTML = '';\n",
              "          dataTable['output_type'] = 'display_data';\n",
              "          await google.colab.output.renderOutput(dataTable, element);\n",
              "          const docLink = document.createElement('div');\n",
              "          docLink.innerHTML = docLinkHtml;\n",
              "          element.appendChild(docLink);\n",
              "        }\n",
              "      </script>\n",
              "    </div>\n",
              "  </div>\n",
              "  "
            ]
          },
          "metadata": {},
          "execution_count": 29
        }
      ]
    },
    {
      "cell_type": "code",
      "source": [
        "dataset_for_prediction=dataset_for_prediction.dropna()"
      ],
      "metadata": {
        "id": "wCe8RGIYSced"
      },
      "execution_count": null,
      "outputs": []
    },
    {
      "cell_type": "markdown",
      "source": [
        "We have added date below as shown"
      ],
      "metadata": {
        "id": "djeIhe5BCftl"
      }
    },
    {
      "cell_type": "code",
      "source": [
        "dataset_for_prediction['Date'] =pd.to_datetime(dataset_for_prediction['Date'])\n",
        "dataset_for_prediction.index= dataset_for_prediction['Date']\n",
        "dataset_for_prediction.head(3)"
      ],
      "metadata": {
        "colab": {
          "base_uri": "https://localhost:8080/",
          "height": 282
        },
        "id": "ARAq_BrrSlmU",
        "outputId": "83799df8-ad20-4c4c-96fc-75bf96aad578"
      },
      "execution_count": null,
      "outputs": [
        {
          "output_type": "stream",
          "name": "stderr",
          "text": [
            "/usr/local/lib/python3.7/dist-packages/ipykernel_launcher.py:1: SettingWithCopyWarning: \n",
            "A value is trying to be set on a copy of a slice from a DataFrame.\n",
            "Try using .loc[row_indexer,col_indexer] = value instead\n",
            "\n",
            "See the caveats in the documentation: https://pandas.pydata.org/pandas-docs/stable/user_guide/indexing.html#returning-a-view-versus-a-copy\n",
            "  \"\"\"Entry point for launching an IPython kernel.\n"
          ]
        },
        {
          "output_type": "execute_result",
          "data": {
            "text/plain": [
              "                 Date      Open      High       Low     Close  Adj Close  \\\n",
              "Date                                                                       \n",
              "2008-10-01 2008-10-01  3.997143  4.012857  3.835357  3.897143   3.337023   \n",
              "2008-10-02 2008-10-02  3.857500  3.885357  3.571429  3.575000   3.061180   \n",
              "2008-10-03 2008-10-03  3.714286  3.803571  3.380357  3.466786   2.968519   \n",
              "\n",
              "                Volume      Mean    Actual  \n",
              "Date                                        \n",
              "2008-10-01  1296484000  3.924107  3.728393  \n",
              "2008-10-02  1609364400  3.728393  3.591964  \n",
              "2008-10-03  2294398400  3.591964  3.327143  "
            ],
            "text/html": [
              "\n",
              "  <div id=\"df-b85b3fce-22a9-42a2-97bc-c028c3c7233e\">\n",
              "    <div class=\"colab-df-container\">\n",
              "      <div>\n",
              "<style scoped>\n",
              "    .dataframe tbody tr th:only-of-type {\n",
              "        vertical-align: middle;\n",
              "    }\n",
              "\n",
              "    .dataframe tbody tr th {\n",
              "        vertical-align: top;\n",
              "    }\n",
              "\n",
              "    .dataframe thead th {\n",
              "        text-align: right;\n",
              "    }\n",
              "</style>\n",
              "<table border=\"1\" class=\"dataframe\">\n",
              "  <thead>\n",
              "    <tr style=\"text-align: right;\">\n",
              "      <th></th>\n",
              "      <th>Date</th>\n",
              "      <th>Open</th>\n",
              "      <th>High</th>\n",
              "      <th>Low</th>\n",
              "      <th>Close</th>\n",
              "      <th>Adj Close</th>\n",
              "      <th>Volume</th>\n",
              "      <th>Mean</th>\n",
              "      <th>Actual</th>\n",
              "    </tr>\n",
              "    <tr>\n",
              "      <th>Date</th>\n",
              "      <th></th>\n",
              "      <th></th>\n",
              "      <th></th>\n",
              "      <th></th>\n",
              "      <th></th>\n",
              "      <th></th>\n",
              "      <th></th>\n",
              "      <th></th>\n",
              "      <th></th>\n",
              "    </tr>\n",
              "  </thead>\n",
              "  <tbody>\n",
              "    <tr>\n",
              "      <th>2008-10-01</th>\n",
              "      <td>2008-10-01</td>\n",
              "      <td>3.997143</td>\n",
              "      <td>4.012857</td>\n",
              "      <td>3.835357</td>\n",
              "      <td>3.897143</td>\n",
              "      <td>3.337023</td>\n",
              "      <td>1296484000</td>\n",
              "      <td>3.924107</td>\n",
              "      <td>3.728393</td>\n",
              "    </tr>\n",
              "    <tr>\n",
              "      <th>2008-10-02</th>\n",
              "      <td>2008-10-02</td>\n",
              "      <td>3.857500</td>\n",
              "      <td>3.885357</td>\n",
              "      <td>3.571429</td>\n",
              "      <td>3.575000</td>\n",
              "      <td>3.061180</td>\n",
              "      <td>1609364400</td>\n",
              "      <td>3.728393</td>\n",
              "      <td>3.591964</td>\n",
              "    </tr>\n",
              "    <tr>\n",
              "      <th>2008-10-03</th>\n",
              "      <td>2008-10-03</td>\n",
              "      <td>3.714286</td>\n",
              "      <td>3.803571</td>\n",
              "      <td>3.380357</td>\n",
              "      <td>3.466786</td>\n",
              "      <td>2.968519</td>\n",
              "      <td>2294398400</td>\n",
              "      <td>3.591964</td>\n",
              "      <td>3.327143</td>\n",
              "    </tr>\n",
              "  </tbody>\n",
              "</table>\n",
              "</div>\n",
              "      <button class=\"colab-df-convert\" onclick=\"convertToInteractive('df-b85b3fce-22a9-42a2-97bc-c028c3c7233e')\"\n",
              "              title=\"Convert this dataframe to an interactive table.\"\n",
              "              style=\"display:none;\">\n",
              "        \n",
              "  <svg xmlns=\"http://www.w3.org/2000/svg\" height=\"24px\"viewBox=\"0 0 24 24\"\n",
              "       width=\"24px\">\n",
              "    <path d=\"M0 0h24v24H0V0z\" fill=\"none\"/>\n",
              "    <path d=\"M18.56 5.44l.94 2.06.94-2.06 2.06-.94-2.06-.94-.94-2.06-.94 2.06-2.06.94zm-11 1L8.5 8.5l.94-2.06 2.06-.94-2.06-.94L8.5 2.5l-.94 2.06-2.06.94zm10 10l.94 2.06.94-2.06 2.06-.94-2.06-.94-.94-2.06-.94 2.06-2.06.94z\"/><path d=\"M17.41 7.96l-1.37-1.37c-.4-.4-.92-.59-1.43-.59-.52 0-1.04.2-1.43.59L10.3 9.45l-7.72 7.72c-.78.78-.78 2.05 0 2.83L4 21.41c.39.39.9.59 1.41.59.51 0 1.02-.2 1.41-.59l7.78-7.78 2.81-2.81c.8-.78.8-2.07 0-2.86zM5.41 20L4 18.59l7.72-7.72 1.47 1.35L5.41 20z\"/>\n",
              "  </svg>\n",
              "      </button>\n",
              "      \n",
              "  <style>\n",
              "    .colab-df-container {\n",
              "      display:flex;\n",
              "      flex-wrap:wrap;\n",
              "      gap: 12px;\n",
              "    }\n",
              "\n",
              "    .colab-df-convert {\n",
              "      background-color: #E8F0FE;\n",
              "      border: none;\n",
              "      border-radius: 50%;\n",
              "      cursor: pointer;\n",
              "      display: none;\n",
              "      fill: #1967D2;\n",
              "      height: 32px;\n",
              "      padding: 0 0 0 0;\n",
              "      width: 32px;\n",
              "    }\n",
              "\n",
              "    .colab-df-convert:hover {\n",
              "      background-color: #E2EBFA;\n",
              "      box-shadow: 0px 1px 2px rgba(60, 64, 67, 0.3), 0px 1px 3px 1px rgba(60, 64, 67, 0.15);\n",
              "      fill: #174EA6;\n",
              "    }\n",
              "\n",
              "    [theme=dark] .colab-df-convert {\n",
              "      background-color: #3B4455;\n",
              "      fill: #D2E3FC;\n",
              "    }\n",
              "\n",
              "    [theme=dark] .colab-df-convert:hover {\n",
              "      background-color: #434B5C;\n",
              "      box-shadow: 0px 1px 3px 1px rgba(0, 0, 0, 0.15);\n",
              "      filter: drop-shadow(0px 1px 2px rgba(0, 0, 0, 0.3));\n",
              "      fill: #FFFFFF;\n",
              "    }\n",
              "  </style>\n",
              "\n",
              "      <script>\n",
              "        const buttonEl =\n",
              "          document.querySelector('#df-b85b3fce-22a9-42a2-97bc-c028c3c7233e button.colab-df-convert');\n",
              "        buttonEl.style.display =\n",
              "          google.colab.kernel.accessAllowed ? 'block' : 'none';\n",
              "\n",
              "        async function convertToInteractive(key) {\n",
              "          const element = document.querySelector('#df-b85b3fce-22a9-42a2-97bc-c028c3c7233e');\n",
              "          const dataTable =\n",
              "            await google.colab.kernel.invokeFunction('convertToInteractive',\n",
              "                                                     [key], {});\n",
              "          if (!dataTable) return;\n",
              "\n",
              "          const docLinkHtml = 'Like what you see? Visit the ' +\n",
              "            '<a target=\"_blank\" href=https://colab.research.google.com/notebooks/data_table.ipynb>data table notebook</a>'\n",
              "            + ' to learn more about interactive tables.';\n",
              "          element.innerHTML = '';\n",
              "          dataTable['output_type'] = 'display_data';\n",
              "          await google.colab.output.renderOutput(dataTable, element);\n",
              "          const docLink = document.createElement('div');\n",
              "          docLink.innerHTML = docLinkHtml;\n",
              "          element.appendChild(docLink);\n",
              "        }\n",
              "      </script>\n",
              "    </div>\n",
              "  </div>\n",
              "  "
            ]
          },
          "metadata": {},
          "execution_count": 31
        }
      ]
    },
    {
      "cell_type": "markdown",
      "source": [
        "Let’s plot the mean stock prices for the current day and look at the trends.\n"
      ],
      "metadata": {
        "id": "HXOFq24OTNVK"
      }
    },
    {
      "cell_type": "code",
      "source": [
        "dataset_for_prediction['Mean'].plot(color='green', figsize=(15,2))\n",
        "plt.legend(['Next day value', 'Mean'])\n",
        "plt.title(\"Apple Opening Stock Value\")"
      ],
      "metadata": {
        "colab": {
          "base_uri": "https://localhost:8080/",
          "height": 205
        },
        "id": "j4ywFPzJSxHV",
        "outputId": "7863c1be-42fb-45ed-885f-aeff7314685d"
      },
      "execution_count": null,
      "outputs": [
        {
          "output_type": "execute_result",
          "data": {
            "text/plain": [
              "Text(0.5, 1.0, 'Apple Opening Stock Value')"
            ]
          },
          "metadata": {},
          "execution_count": 32
        },
        {
          "output_type": "display_data",
          "data": {
            "text/plain": [
              "<Figure size 1080x144 with 1 Axes>"
            ],
            "image/png": "[encoded data removed]"
          },
          "metadata": {
            "needs_background": "light"
          }
        }
      ]
    },
    {
      "cell_type": "markdown",
      "source": [
        "Plotting volume of Apple stocks sold daily"
      ],
      "metadata": {
        "id": "C3rw6gz2TE4A"
      }
    },
    {
      "cell_type": "code",
      "source": [
        "dataset_for_prediction['Volume'].plot(color='blue', figsize=(15,2))\n",
        "plt.title(\" Apple Stock Volume\")"
      ],
      "metadata": {
        "colab": {
          "base_uri": "https://localhost:8080/",
          "height": 205
        },
        "id": "dSxrqi9wTFW-",
        "outputId": "3ee4cbd5-3af8-4132-b0a9-be10bf40e516"
      },
      "execution_count": null,
      "outputs": [
        {
          "output_type": "execute_result",
          "data": {
            "text/plain": [
              "Text(0.5, 1.0, ' Apple Stock Volume')"
            ]
          },
          "metadata": {},
          "execution_count": 33
        },
        {
          "output_type": "display_data",
          "data": {
            "text/plain": [
              "<Figure size 1080x144 with 1 Axes>"
            ],
            "image/png": "[encoded data removed]"
          },
          "metadata": {
            "needs_background": "light"
          }
        }
      ]
    },
    {
      "cell_type": "markdown",
      "source": [
        "**Normalizing the input and target features**\n",
        "\n",
        "Since the stock prices and volume are on a different scale, we need to normalize the data. We use MinMaxScaler; it will scale the data to a fixed range between 0 to 1\n",
        "Scaling the input features- Low, High, Open, Close, Volume, Adjusted Close, and Mean\n"
      ],
      "metadata": {
        "id": "FD49fgz1T10s"
      }
    },
    {
      "cell_type": "code",
      "source": [
        "from sklearn.preprocessing import MinMaxScaler\n",
        "sc_in = MinMaxScaler(feature_range=(0, 1))\n",
        "scaled_input = sc_in.fit_transform(dataset_for_prediction[['Low', 'High','Open', 'Close', 'Volume', 'Adj Close', 'Mean']])\n",
        "scaled_input =pd.DataFrame(scaled_input)\n",
        "X= scaled_input\n",
        "X.index= dataset_for_prediction['Date']\n",
        "X.head(3)"
      ],
      "metadata": {
        "colab": {
          "base_uri": "https://localhost:8080/",
          "height": 175
        },
        "id": "z82qFR1DT4vT",
        "outputId": "e3a0e2bc-a763-416e-b6d0-423b883cd577"
      },
      "execution_count": null,
      "outputs": [
        {
          "output_type": "execute_result",
          "data": {
            "text/plain": [
              "                   0         1         2         3         4         5  \\\n",
              "Date                                                                     \n",
              "2008-10-01  0.019075  0.019558  0.021177  0.019996  0.556275  0.017620   \n",
              "2008-10-02  0.014246  0.017258  0.018632  0.014163  0.695398  0.012480   \n",
              "2008-10-03  0.010750  0.015783  0.016021  0.012203  1.000000  0.010753   \n",
              "\n",
              "                   6  \n",
              "Date                  \n",
              "2008-10-01  0.019318  \n",
              "2008-10-02  0.015763  \n",
              "2008-10-03  0.013284  "
            ],
            "text/html": [
              "\n",
              "  <div id=\"df-9148ab5a-521a-4e73-b6b1-008225555ed5\">\n",
              "    <div class=\"colab-df-container\">\n",
              "      <div>\n",
              "<style scoped>\n",
              "    .dataframe tbody tr th:only-of-type {\n",
              "        vertical-align: middle;\n",
              "    }\n",
              "\n",
              "    .dataframe tbody tr th {\n",
              "        vertical-align: top;\n",
              "    }\n",
              "\n",
              "    .dataframe thead th {\n",
              "        text-align: right;\n",
              "    }\n",
              "</style>\n",
              "<table border=\"1\" class=\"dataframe\">\n",
              "  <thead>\n",
              "    <tr style=\"text-align: right;\">\n",
              "      <th></th>\n",
              "      <th>0</th>\n",
              "      <th>1</th>\n",
              "      <th>2</th>\n",
              "      <th>3</th>\n",
              "      <th>4</th>\n",
              "      <th>5</th>\n",
              "      <th>6</th>\n",
              "    </tr>\n",
              "    <tr>\n",
              "      <th>Date</th>\n",
              "      <th></th>\n",
              "      <th></th>\n",
              "      <th></th>\n",
              "      <th></th>\n",
              "      <th></th>\n",
              "      <th></th>\n",
              "      <th></th>\n",
              "    </tr>\n",
              "  </thead>\n",
              "  <tbody>\n",
              "    <tr>\n",
              "      <th>2008-10-01</th>\n",
              "      <td>0.019075</td>\n",
              "      <td>0.019558</td>\n",
              "      <td>0.021177</td>\n",
              "      <td>0.019996</td>\n",
              "      <td>0.556275</td>\n",
              "      <td>0.017620</td>\n",
              "      <td>0.019318</td>\n",
              "    </tr>\n",
              "    <tr>\n",
              "      <th>2008-10-02</th>\n",
              "      <td>0.014246</td>\n",
              "      <td>0.017258</td>\n",
              "      <td>0.018632</td>\n",
              "      <td>0.014163</td>\n",
              "      <td>0.695398</td>\n",
              "      <td>0.012480</td>\n",
              "      <td>0.015763</td>\n",
              "    </tr>\n",
              "    <tr>\n",
              "      <th>2008-10-03</th>\n",
              "      <td>0.010750</td>\n",
              "      <td>0.015783</td>\n",
              "      <td>0.016021</td>\n",
              "      <td>0.012203</td>\n",
              "      <td>1.000000</td>\n",
              "      <td>0.010753</td>\n",
              "      <td>0.013284</td>\n",
              "    </tr>\n",
              "  </tbody>\n",
              "</table>\n",
              "</div>\n",
              "      <button class=\"colab-df-convert\" onclick=\"convertToInteractive('df-9148ab5a-521a-4e73-b6b1-008225555ed5')\"\n",
              "              title=\"Convert this dataframe to an interactive table.\"\n",
              "              style=\"display:none;\">\n",
              "        \n",
              "  <svg xmlns=\"http://www.w3.org/2000/svg\" height=\"24px\"viewBox=\"0 0 24 24\"\n",
              "       width=\"24px\">\n",
              "    <path d=\"M0 0h24v24H0V0z\" fill=\"none\"/>\n",
              "    <path d=\"M18.56 5.44l.94 2.06.94-2.06 2.06-.94-2.06-.94-.94-2.06-.94 2.06-2.06.94zm-11 1L8.5 8.5l.94-2.06 2.06-.94-2.06-.94L8.5 2.5l-.94 2.06-2.06.94zm10 10l.94 2.06.94-2.06 2.06-.94-2.06-.94-.94-2.06-.94 2.06-2.06.94z\"/><path d=\"M17.41 7.96l-1.37-1.37c-.4-.4-.92-.59-1.43-.59-.52 0-1.04.2-1.43.59L10.3 9.45l-7.72 7.72c-.78.78-.78 2.05 0 2.83L4 21.41c.39.39.9.59 1.41.59.51 0 1.02-.2 1.41-.59l7.78-7.78 2.81-2.81c.8-.78.8-2.07 0-2.86zM5.41 20L4 18.59l7.72-7.72 1.47 1.35L5.41 20z\"/>\n",
              "  </svg>\n",
              "      </button>\n",
              "      \n",
              "  <style>\n",
              "    .colab-df-container {\n",
              "      display:flex;\n",
              "      flex-wrap:wrap;\n",
              "      gap: 12px;\n",
              "    }\n",
              "\n",
              "    .colab-df-convert {\n",
              "      background-color: #E8F0FE;\n",
              "      border: none;\n",
              "      border-radius: 50%;\n",
              "      cursor: pointer;\n",
              "      display: none;\n",
              "      fill: #1967D2;\n",
              "      height: 32px;\n",
              "      padding: 0 0 0 0;\n",
              "      width: 32px;\n",
              "    }\n",
              "\n",
              "    .colab-df-convert:hover {\n",
              "      background-color: #E2EBFA;\n",
              "      box-shadow: 0px 1px 2px rgba(60, 64, 67, 0.3), 0px 1px 3px 1px rgba(60, 64, 67, 0.15);\n",
              "      fill: #174EA6;\n",
              "    }\n",
              "\n",
              "    [theme=dark] .colab-df-convert {\n",
              "      background-color: #3B4455;\n",
              "      fill: #D2E3FC;\n",
              "    }\n",
              "\n",
              "    [theme=dark] .colab-df-convert:hover {\n",
              "      background-color: #434B5C;\n",
              "      box-shadow: 0px 1px 3px 1px rgba(0, 0, 0, 0.15);\n",
              "      filter: drop-shadow(0px 1px 2px rgba(0, 0, 0, 0.3));\n",
              "      fill: #FFFFFF;\n",
              "    }\n",
              "  </style>\n",
              "\n",
              "      <script>\n",
              "        const buttonEl =\n",
              "          document.querySelector('#df-9148ab5a-521a-4e73-b6b1-008225555ed5 button.colab-df-convert');\n",
              "        buttonEl.style.display =\n",
              "          google.colab.kernel.accessAllowed ? 'block' : 'none';\n",
              "\n",
              "        async function convertToInteractive(key) {\n",
              "          const element = document.querySelector('#df-9148ab5a-521a-4e73-b6b1-008225555ed5');\n",
              "          const dataTable =\n",
              "            await google.colab.kernel.invokeFunction('convertToInteractive',\n",
              "                                                     [key], {});\n",
              "          if (!dataTable) return;\n",
              "\n",
              "          const docLinkHtml = 'Like what you see? Visit the ' +\n",
              "            '<a target=\"_blank\" href=https://colab.research.google.com/notebooks/data_table.ipynb>data table notebook</a>'\n",
              "            + ' to learn more about interactive tables.';\n",
              "          element.innerHTML = '';\n",
              "          dataTable['output_type'] = 'display_data';\n",
              "          await google.colab.output.renderOutput(dataTable, element);\n",
              "          const docLink = document.createElement('div');\n",
              "          docLink.innerHTML = docLinkHtml;\n",
              "          element.appendChild(docLink);\n",
              "        }\n",
              "      </script>\n",
              "    </div>\n",
              "  </div>\n",
              "  "
            ]
          },
          "metadata": {},
          "execution_count": 34
        }
      ]
    },
    {
      "cell_type": "markdown",
      "source": [
        "Scaling the output features -Actual. We are using a different instance of MinMaxScaler here. This will allow us to perform an inverse transform of the predicted stock prices later easily.\n"
      ],
      "metadata": {
        "id": "MDocTXXbUczo"
      }
    },
    {
      "cell_type": "code",
      "source": [
        "sc_out = MinMaxScaler(feature_range=(0, 1))\n",
        "scaler_output = sc_out.fit_transform(dataset_for_prediction[['Actual']])\n",
        "scaler_output =pd.DataFrame(scaler_output)\n",
        "y=scaler_output"
      ],
      "metadata": {
        "id": "lGJiIHAxUeZ9"
      },
      "execution_count": null,
      "outputs": []
    },
    {
      "cell_type": "markdown",
      "source": [
        "Renaming the column names for input features and target variable for better understanding as the column names are currently numbers.\n"
      ],
      "metadata": {
        "id": "c9FFmC2VUr0m"
      }
    },
    {
      "cell_type": "code",
      "source": [
        "X.rename(columns={0:'Low', 1:'High', 2:'Open', 3:'Close', 4:'Volume', 5:'Adj Close', 6:'Mean'}, inplace=True)\n",
        "X.head(2)"
      ],
      "metadata": {
        "colab": {
          "base_uri": "https://localhost:8080/",
          "height": 143
        },
        "id": "1jdMOdRoUtNo",
        "outputId": "012dbe5a-9607-4b61-f6d8-76c20cfa48d4"
      },
      "execution_count": null,
      "outputs": [
        {
          "output_type": "execute_result",
          "data": {
            "text/plain": [
              "                 Low      High      Open     Close    Volume  Adj Close  \\\n",
              "Date                                                                      \n",
              "2008-10-01  0.019075  0.019558  0.021177  0.019996  0.556275    0.01762   \n",
              "2008-10-02  0.014246  0.017258  0.018632  0.014163  0.695398    0.01248   \n",
              "\n",
              "                Mean  \n",
              "Date                  \n",
              "2008-10-01  0.019318  \n",
              "2008-10-02  0.015763  "
            ],
            "text/html": [
              "\n",
              "  <div id=\"df-2b9c19f6-1a4a-40f2-8d80-91bcac48a2ea\">\n",
              "    <div class=\"colab-df-container\">\n",
              "      <div>\n",
              "<style scoped>\n",
              "    .dataframe tbody tr th:only-of-type {\n",
              "        vertical-align: middle;\n",
              "    }\n",
              "\n",
              "    .dataframe tbody tr th {\n",
              "        vertical-align: top;\n",
              "    }\n",
              "\n",
              "    .dataframe thead th {\n",
              "        text-align: right;\n",
              "    }\n",
              "</style>\n",
              "<table border=\"1\" class=\"dataframe\">\n",
              "  <thead>\n",
              "    <tr style=\"text-align: right;\">\n",
              "      <th></th>\n",
              "      <th>Low</th>\n",
              "      <th>High</th>\n",
              "      <th>Open</th>\n",
              "      <th>Close</th>\n",
              "      <th>Volume</th>\n",
              "      <th>Adj Close</th>\n",
              "      <th>Mean</th>\n",
              "    </tr>\n",
              "    <tr>\n",
              "      <th>Date</th>\n",
              "      <th></th>\n",
              "      <th></th>\n",
              "      <th></th>\n",
              "      <th></th>\n",
              "      <th></th>\n",
              "      <th></th>\n",
              "      <th></th>\n",
              "    </tr>\n",
              "  </thead>\n",
              "  <tbody>\n",
              "    <tr>\n",
              "      <th>2008-10-01</th>\n",
              "      <td>0.019075</td>\n",
              "      <td>0.019558</td>\n",
              "      <td>0.021177</td>\n",
              "      <td>0.019996</td>\n",
              "      <td>0.556275</td>\n",
              "      <td>0.01762</td>\n",
              "      <td>0.019318</td>\n",
              "    </tr>\n",
              "    <tr>\n",
              "      <th>2008-10-02</th>\n",
              "      <td>0.014246</td>\n",
              "      <td>0.017258</td>\n",
              "      <td>0.018632</td>\n",
              "      <td>0.014163</td>\n",
              "      <td>0.695398</td>\n",
              "      <td>0.01248</td>\n",
              "      <td>0.015763</td>\n",
              "    </tr>\n",
              "  </tbody>\n",
              "</table>\n",
              "</div>\n",
              "      <button class=\"colab-df-convert\" onclick=\"convertToInteractive('df-2b9c19f6-1a4a-40f2-8d80-91bcac48a2ea')\"\n",
              "              title=\"Convert this dataframe to an interactive table.\"\n",
              "              style=\"display:none;\">\n",
              "        \n",
              "  <svg xmlns=\"http://www.w3.org/2000/svg\" height=\"24px\"viewBox=\"0 0 24 24\"\n",
              "       width=\"24px\">\n",
              "    <path d=\"M0 0h24v24H0V0z\" fill=\"none\"/>\n",
              "    <path d=\"M18.56 5.44l.94 2.06.94-2.06 2.06-.94-2.06-.94-.94-2.06-.94 2.06-2.06.94zm-11 1L8.5 8.5l.94-2.06 2.06-.94-2.06-.94L8.5 2.5l-.94 2.06-2.06.94zm10 10l.94 2.06.94-2.06 2.06-.94-2.06-.94-.94-2.06-.94 2.06-2.06.94z\"/><path d=\"M17.41 7.96l-1.37-1.37c-.4-.4-.92-.59-1.43-.59-.52 0-1.04.2-1.43.59L10.3 9.45l-7.72 7.72c-.78.78-.78 2.05 0 2.83L4 21.41c.39.39.9.59 1.41.59.51 0 1.02-.2 1.41-.59l7.78-7.78 2.81-2.81c.8-.78.8-2.07 0-2.86zM5.41 20L4 18.59l7.72-7.72 1.47 1.35L5.41 20z\"/>\n",
              "  </svg>\n",
              "      </button>\n",
              "      \n",
              "  <style>\n",
              "    .colab-df-container {\n",
              "      display:flex;\n",
              "      flex-wrap:wrap;\n",
              "      gap: 12px;\n",
              "    }\n",
              "\n",
              "    .colab-df-convert {\n",
              "      background-color: #E8F0FE;\n",
              "      border: none;\n",
              "      border-radius: 50%;\n",
              "      cursor: pointer;\n",
              "      display: none;\n",
              "      fill: #1967D2;\n",
              "      height: 32px;\n",
              "      padding: 0 0 0 0;\n",
              "      width: 32px;\n",
              "    }\n",
              "\n",
              "    .colab-df-convert:hover {\n",
              "      background-color: #E2EBFA;\n",
              "      box-shadow: 0px 1px 2px rgba(60, 64, 67, 0.3), 0px 1px 3px 1px rgba(60, 64, 67, 0.15);\n",
              "      fill: #174EA6;\n",
              "    }\n",
              "\n",
              "    [theme=dark] .colab-df-convert {\n",
              "      background-color: #3B4455;\n",
              "      fill: #D2E3FC;\n",
              "    }\n",
              "\n",
              "    [theme=dark] .colab-df-convert:hover {\n",
              "      background-color: #434B5C;\n",
              "      box-shadow: 0px 1px 3px 1px rgba(0, 0, 0, 0.15);\n",
              "      filter: drop-shadow(0px 1px 2px rgba(0, 0, 0, 0.3));\n",
              "      fill: #FFFFFF;\n",
              "    }\n",
              "  </style>\n",
              "\n",
              "      <script>\n",
              "        const buttonEl =\n",
              "          document.querySelector('#df-2b9c19f6-1a4a-40f2-8d80-91bcac48a2ea button.colab-df-convert');\n",
              "        buttonEl.style.display =\n",
              "          google.colab.kernel.accessAllowed ? 'block' : 'none';\n",
              "\n",
              "        async function convertToInteractive(key) {\n",
              "          const element = document.querySelector('#df-2b9c19f6-1a4a-40f2-8d80-91bcac48a2ea');\n",
              "          const dataTable =\n",
              "            await google.colab.kernel.invokeFunction('convertToInteractive',\n",
              "                                                     [key], {});\n",
              "          if (!dataTable) return;\n",
              "\n",
              "          const docLinkHtml = 'Like what you see? Visit the ' +\n",
              "            '<a target=\"_blank\" href=https://colab.research.google.com/notebooks/data_table.ipynb>data table notebook</a>'\n",
              "            + ' to learn more about interactive tables.';\n",
              "          element.innerHTML = '';\n",
              "          dataTable['output_type'] = 'display_data';\n",
              "          await google.colab.output.renderOutput(dataTable, element);\n",
              "          const docLink = document.createElement('div');\n",
              "          docLink.innerHTML = docLinkHtml;\n",
              "          element.appendChild(docLink);\n",
              "        }\n",
              "      </script>\n",
              "    </div>\n",
              "  </div>\n",
              "  "
            ]
          },
          "metadata": {},
          "execution_count": 36
        }
      ]
    },
    {
      "cell_type": "markdown",
      "source": [
        "Renaming target variable"
      ],
      "metadata": {
        "id": "RAgTKLekVJla"
      }
    },
    {
      "cell_type": "code",
      "source": [
        "y.rename(columns={0:'Stock Price next day'}, inplace= True)\n",
        "y.index= dataset_for_prediction['Date']\n",
        "y.head(2)"
      ],
      "metadata": {
        "colab": {
          "base_uri": "https://localhost:8080/",
          "height": 143
        },
        "id": "lMRrv4H9VJsr",
        "outputId": "641fbe1d-a5a4-4345-bb43-8104151bc10a"
      },
      "execution_count": null,
      "outputs": [
        {
          "output_type": "execute_result",
          "data": {
            "text/plain": [
              "            Stock Price next day\n",
              "Date                            \n",
              "2008-10-01              0.015763\n",
              "2008-10-02              0.013284"
            ],
            "text/html": [
              "\n",
              "  <div id=\"df-559d39af-e2d9-48d1-982c-884a133b5419\">\n",
              "    <div class=\"colab-df-container\">\n",
              "      <div>\n",
              "<style scoped>\n",
              "    .dataframe tbody tr th:only-of-type {\n",
              "        vertical-align: middle;\n",
              "    }\n",
              "\n",
              "    .dataframe tbody tr th {\n",
              "        vertical-align: top;\n",
              "    }\n",
              "\n",
              "    .dataframe thead th {\n",
              "        text-align: right;\n",
              "    }\n",
              "</style>\n",
              "<table border=\"1\" class=\"dataframe\">\n",
              "  <thead>\n",
              "    <tr style=\"text-align: right;\">\n",
              "      <th></th>\n",
              "      <th>Stock Price next day</th>\n",
              "    </tr>\n",
              "    <tr>\n",
              "      <th>Date</th>\n",
              "      <th></th>\n",
              "    </tr>\n",
              "  </thead>\n",
              "  <tbody>\n",
              "    <tr>\n",
              "      <th>2008-10-01</th>\n",
              "      <td>0.015763</td>\n",
              "    </tr>\n",
              "    <tr>\n",
              "      <th>2008-10-02</th>\n",
              "      <td>0.013284</td>\n",
              "    </tr>\n",
              "  </tbody>\n",
              "</table>\n",
              "</div>\n",
              "      <button class=\"colab-df-convert\" onclick=\"convertToInteractive('df-559d39af-e2d9-48d1-982c-884a133b5419')\"\n",
              "              title=\"Convert this dataframe to an interactive table.\"\n",
              "              style=\"display:none;\">\n",
              "        \n",
              "  <svg xmlns=\"http://www.w3.org/2000/svg\" height=\"24px\"viewBox=\"0 0 24 24\"\n",
              "       width=\"24px\">\n",
              "    <path d=\"M0 0h24v24H0V0z\" fill=\"none\"/>\n",
              "    <path d=\"M18.56 5.44l.94 2.06.94-2.06 2.06-.94-2.06-.94-.94-2.06-.94 2.06-2.06.94zm-11 1L8.5 8.5l.94-2.06 2.06-.94-2.06-.94L8.5 2.5l-.94 2.06-2.06.94zm10 10l.94 2.06.94-2.06 2.06-.94-2.06-.94-.94-2.06-.94 2.06-2.06.94z\"/><path d=\"M17.41 7.96l-1.37-1.37c-.4-.4-.92-.59-1.43-.59-.52 0-1.04.2-1.43.59L10.3 9.45l-7.72 7.72c-.78.78-.78 2.05 0 2.83L4 21.41c.39.39.9.59 1.41.59.51 0 1.02-.2 1.41-.59l7.78-7.78 2.81-2.81c.8-.78.8-2.07 0-2.86zM5.41 20L4 18.59l7.72-7.72 1.47 1.35L5.41 20z\"/>\n",
              "  </svg>\n",
              "      </button>\n",
              "      \n",
              "  <style>\n",
              "    .colab-df-container {\n",
              "      display:flex;\n",
              "      flex-wrap:wrap;\n",
              "      gap: 12px;\n",
              "    }\n",
              "\n",
              "    .colab-df-convert {\n",
              "      background-color: #E8F0FE;\n",
              "      border: none;\n",
              "      border-radius: 50%;\n",
              "      cursor: pointer;\n",
              "      display: none;\n",
              "      fill: #1967D2;\n",
              "      height: 32px;\n",
              "      padding: 0 0 0 0;\n",
              "      width: 32px;\n",
              "    }\n",
              "\n",
              "    .colab-df-convert:hover {\n",
              "      background-color: #E2EBFA;\n",
              "      box-shadow: 0px 1px 2px rgba(60, 64, 67, 0.3), 0px 1px 3px 1px rgba(60, 64, 67, 0.15);\n",
              "      fill: #174EA6;\n",
              "    }\n",
              "\n",
              "    [theme=dark] .colab-df-convert {\n",
              "      background-color: #3B4455;\n",
              "      fill: #D2E3FC;\n",
              "    }\n",
              "\n",
              "    [theme=dark] .colab-df-convert:hover {\n",
              "      background-color: #434B5C;\n",
              "      box-shadow: 0px 1px 3px 1px rgba(0, 0, 0, 0.15);\n",
              "      filter: drop-shadow(0px 1px 2px rgba(0, 0, 0, 0.3));\n",
              "      fill: #FFFFFF;\n",
              "    }\n",
              "  </style>\n",
              "\n",
              "      <script>\n",
              "        const buttonEl =\n",
              "          document.querySelector('#df-559d39af-e2d9-48d1-982c-884a133b5419 button.colab-df-convert');\n",
              "        buttonEl.style.display =\n",
              "          google.colab.kernel.accessAllowed ? 'block' : 'none';\n",
              "\n",
              "        async function convertToInteractive(key) {\n",
              "          const element = document.querySelector('#df-559d39af-e2d9-48d1-982c-884a133b5419');\n",
              "          const dataTable =\n",
              "            await google.colab.kernel.invokeFunction('convertToInteractive',\n",
              "                                                     [key], {});\n",
              "          if (!dataTable) return;\n",
              "\n",
              "          const docLinkHtml = 'Like what you see? Visit the ' +\n",
              "            '<a target=\"_blank\" href=https://colab.research.google.com/notebooks/data_table.ipynb>data table notebook</a>'\n",
              "            + ' to learn more about interactive tables.';\n",
              "          element.innerHTML = '';\n",
              "          dataTable['output_type'] = 'display_data';\n",
              "          await google.colab.output.renderOutput(dataTable, element);\n",
              "          const docLink = document.createElement('div');\n",
              "          docLink.innerHTML = docLinkHtml;\n",
              "          element.appendChild(docLink);\n",
              "        }\n",
              "      </script>\n",
              "    </div>\n",
              "  </div>\n",
              "  "
            ]
          },
          "metadata": {},
          "execution_count": 37
        }
      ]
    },
    {
      "cell_type": "markdown",
      "source": [
        "Splitting the data into training and test set\n",
        "Our training set will be 70%, and the test set will be 30% of the entire data set."
      ],
      "metadata": {
        "id": "i9yI6TerVUcv"
      }
    },
    {
      "cell_type": "code",
      "source": [
        "train_size=int(len(dataset) * 0.7)\n",
        "test_size = int(len(dataset)) - train_size\n",
        "train_X, train_y = X[:train_size].dropna(), y[:train_size].dropna()\n",
        "test_X, test_y = X[train_size:].dropna(), y[train_size:].dropna()"
      ],
      "metadata": {
        "id": "6f6ZSAr5VVhu"
      },
      "execution_count": null,
      "outputs": []
    },
    {
      "cell_type": "markdown",
      "source": [
        "**Decomposing Time Series into several components-Trend, Seasonality, and Random noise**\n",
        "\n",
        "We know that Time series data is composed of Level, Trend, Seasonality, and Random noise. Let’s decompose the data and plot the trend, seasonality, and randomness in the data.\n",
        "We use statsmodel for seasonal decompose as an additive model and the frequency of the time series, which is the periodicity of the data, which is 365 days for yearly data.\n",
        "\n",
        "Additive model = Trend + Seasonality + Random Noise"
      ],
      "metadata": {
        "id": "nDHzee826cfD"
      }
    },
    {
      "cell_type": "code",
      "source": [
        "import statsmodels.api as sm\n",
        "seas_d=sm.tsa.seasonal_decompose(X['Mean'],model='add',period=365);\n",
        "fig=seas_d.plot()\n",
        "fig.set_figheight(4)\n",
        "plt.show()"
      ],
      "metadata": {
        "colab": {
          "base_uri": "https://localhost:8080/",
          "height": 297
        },
        "id": "UC8TEyNg6hlx",
        "outputId": "68842257-0257-4a54-9d25-8a0eecfb77fc"
      },
      "execution_count": null,
      "outputs": [
        {
          "output_type": "display_data",
          "data": {
            "text/plain": [
              "<Figure size 432x288 with 4 Axes>"
            ],
            "image/png": "[encoded data removed]"
          },
          "metadata": {
            "needs_background": "light"
          }
        }
      ]
    },
    {
      "cell_type": "markdown",
      "source": [
        "If we make the data stationary, then the model can make predictions based on the fact that mean and variance will remain the same in the future. A stationarized series is easier to predict\n",
        "To check if the data is stationary, we will use the Unit Root Test. It is the most popular statistical method to find if the series is stationary or not.\n",
        "We have written a function that will check the p-value from the Unit Root Test results. If the value of p < 0.05, then the data is stationary, else the data is not stationary. We can make the data stationary by methods like differencing"
      ],
      "metadata": {
        "id": "_k5KMAU-7Us2"
      }
    },
    {
      "cell_type": "code",
      "source": [
        "from statsmodels.tsa.stattools import adfuller\n",
        "def test_adf(series, title=''):\n",
        "    dfout={}\n",
        "    dftest=sm.tsa.adfuller(series.dropna(), autolag='AIC', regression='ct')\n",
        "    for key,val in dftest[4].items():\n",
        "        dfout[f'critical value ({key})']=val\n",
        "    if dftest[1]<=0.05:\n",
        "        print(\"Strong evidence against Null Hypothesis\")\n",
        "        print(\"Reject Null Hypothesis - Data is Stationary\")\n",
        "        print(\"Data is Stationary\", title)\n",
        "    else:\n",
        "        print(\"Strong evidence for  Null Hypothesis\")\n",
        "        print(\"Accept Null Hypothesis - Data is not Stationary\")\n",
        "        print(\"Data is NOT Stationary for\", title)"
      ],
      "metadata": {
        "id": "qKKR0LJu7oJQ"
      },
      "execution_count": null,
      "outputs": []
    },
    {
      "cell_type": "markdown",
      "source": [
        "we create a series for the target variable to check for stationarity"
      ],
      "metadata": {
        "id": "a8mPDfAg7voA"
      }
    },
    {
      "cell_type": "code",
      "source": [
        "y_test=y['Stock Price next day'][:train_size].dropna()\n",
        "test_adf(y_test, \" Stock Price\")"
      ],
      "metadata": {
        "colab": {
          "base_uri": "https://localhost:8080/"
        },
        "id": "hhfZJAhP7xQ6",
        "outputId": "1fa595d4-88f9-4113-b4f1-43fe51195e20"
      },
      "execution_count": null,
      "outputs": [
        {
          "output_type": "stream",
          "name": "stdout",
          "text": [
            "Strong evidence for  Null Hypothesis\n",
            "Accept Null Hypothesis - Data is not Stationary\n",
            "Data is NOT Stationary for  Stock Price\n"
          ]
        }
      ]
    },
    {
      "cell_type": "markdown",
      "source": [
        "Let’s check if we can make the data stationary by applying one difference using diff()"
      ],
      "metadata": {
        "id": "No-A-7O07672"
      }
    },
    {
      "cell_type": "code",
      "source": [
        "test_adf(y_test.diff(), \" Stock Price\")"
      ],
      "metadata": {
        "colab": {
          "base_uri": "https://localhost:8080/"
        },
        "id": "ETvVuKBI770f",
        "outputId": "db2b0ef8-2f7a-42ee-e6b1-5280fe104cf8"
      },
      "execution_count": null,
      "outputs": [
        {
          "output_type": "stream",
          "name": "stdout",
          "text": [
            "Strong evidence against Null Hypothesis\n",
            "Reject Null Hypothesis - Data is Stationary\n",
            "Data is Stationary  Stock Price\n"
          ]
        }
      ]
    },
    {
      "cell_type": "markdown",
      "source": [
        "**Building the Model**\n",
        "\n",
        "Let’s apply **ARIMA** and **SARIMAX** to our data and see which one works better. For both **ARIMA** and **SARIMA** or SARIMAX, we need to know the AR and MA terms to correct any autocorrelation in the differenced series"
      ],
      "metadata": {
        "id": "hUlESbhQ8Gw4"
      }
    },
    {
      "cell_type": "markdown",
      "source": [
        "The systematic way to do this is to use autocorrelation function (ACF) and partial autocorrelation (PACF) plots of the differenced series.\n",
        "\n",
        "ACF plot: is a bar chart of the coefficients of correlation between a time series and its lags. It helps determine the value of p or the AR term.\n",
        "\n",
        "PACF plot: a plot of the partial correlation coefficients between the series and lags of itself. Helps determine the value of q or the MA term"
      ],
      "metadata": {
        "id": "HEQdZ9GG8W2z"
      }
    },
    {
      "cell_type": "code",
      "source": [
        "fig,ax= plt.subplots(2,1, figsize=(10,5))\n",
        "fig=sm.tsa.graphics.plot_acf(y_test, lags=50, ax=ax[0])\n",
        "fig=sm.tsa.graphics.plot_pacf(y_test, lags=50, ax=ax[1])\n",
        "plt.show()"
      ],
      "metadata": {
        "id": "0vp1lEC98Oe1",
        "colab": {
          "base_uri": "https://localhost:8080/",
          "height": 391
        },
        "outputId": "5ea41a34-4896-435b-e121-3f8dc4ee742f"
      },
      "execution_count": null,
      "outputs": [
        {
          "output_type": "stream",
          "name": "stderr",
          "text": [
            "/usr/local/lib/python3.7/dist-packages/statsmodels/graphics/tsaplots.py:353: FutureWarning: The default method 'yw' can produce PACF values outside of the [-1,1] interval. After 0.13, the default will change tounadjusted Yule-Walker ('ywm'). You can use this method now by setting method='ywm'.\n",
            "  FutureWarning,\n"
          ]
        },
        {
          "output_type": "display_data",
          "data": {
            "text/plain": [
              "<Figure size 720x360 with 2 Axes>"
            ],
            "image/png": "[encoded data removed]"
          },
          "metadata": {
            "needs_background": "light"
          }
        }
      ]
    },
    {
      "cell_type": "markdown",
      "source": [
        "We see that the PACF plot has a significant spike at lag 1 and lag 2, meaning that all the higher-order autocorrelations are effectively explained by the lag-1 and lag 2 autocorrelations.\n",
        "\n",
        "We will use pyramid auto Arima to perform a stepwise search for AR and MA term that gives the lowest value of AIC."
      ],
      "metadata": {
        "id": "ttGJURBl8qIo"
      }
    },
    {
      "cell_type": "code",
      "source": [
        "!pip install pmdarima\n",
        "from pmdarima.arima import auto_arima\n",
        "step_wise=auto_arima(train_y, \n",
        " exogenous= train_X,\n",
        " start_p=1, start_q=1, \n",
        " max_p=7, max_q=7, \n",
        " d=1, max_d=7,\n",
        " trace=True, \n",
        " error_action='ignore', \n",
        " suppress_warnings=True, \n",
        " stepwise=True)"
      ],
      "metadata": {
        "colab": {
          "base_uri": "https://localhost:8080/"
        },
        "id": "OXnbmWV98rwe",
        "outputId": "369df3bb-b1d1-4b79-8e7b-284735dd2966"
      },
      "execution_count": null,
      "outputs": [
        {
          "output_type": "stream",
          "name": "stdout",
          "text": [
            "Requirement already satisfied: pmdarima in /usr/local/lib/python3.7/dist-packages (1.8.5)\n",
            "Requirement already satisfied: statsmodels!=0.12.0,>=0.11 in /usr/local/lib/python3.7/dist-packages (from pmdarima) (0.13.2)\n",
            "Requirement already satisfied: urllib3 in /usr/local/lib/python3.7/dist-packages (from pmdarima) (1.24.3)\n",
            "Requirement already satisfied: pandas>=0.19 in /usr/local/lib/python3.7/dist-packages (from pmdarima) (1.3.5)\n",
            "Requirement already satisfied: scipy>=1.3.2 in /usr/local/lib/python3.7/dist-packages (from pmdarima) (1.4.1)\n",
            "Requirement already satisfied: joblib>=0.11 in /usr/local/lib/python3.7/dist-packages (from pmdarima) (1.1.0)\n",
            "Requirement already satisfied: numpy>=1.19.3 in /usr/local/lib/python3.7/dist-packages (from pmdarima) (1.21.6)\n",
            "Requirement already satisfied: Cython!=0.29.18,>=0.29 in /usr/local/lib/python3.7/dist-packages (from pmdarima) (0.29.28)\n",
            "Requirement already satisfied: scikit-learn>=0.22 in /usr/local/lib/python3.7/dist-packages (from pmdarima) (1.0.2)\n",
            "Requirement already satisfied: setuptools!=50.0.0,>=38.6.0 in /usr/local/lib/python3.7/dist-packages (from pmdarima) (57.4.0)\n",
            "Requirement already satisfied: python-dateutil>=2.7.3 in /usr/local/lib/python3.7/dist-packages (from pandas>=0.19->pmdarima) (2.8.2)\n",
            "Requirement already satisfied: pytz>=2017.3 in /usr/local/lib/python3.7/dist-packages (from pandas>=0.19->pmdarima) (2022.1)\n",
            "Requirement already satisfied: six>=1.5 in /usr/local/lib/python3.7/dist-packages (from python-dateutil>=2.7.3->pandas>=0.19->pmdarima) (1.15.0)\n",
            "Requirement already satisfied: threadpoolctl>=2.0.0 in /usr/local/lib/python3.7/dist-packages (from scikit-learn>=0.22->pmdarima) (3.1.0)\n",
            "Requirement already satisfied: packaging>=21.3 in /usr/local/lib/python3.7/dist-packages (from statsmodels!=0.12.0,>=0.11->pmdarima) (21.3)\n",
            "Requirement already satisfied: patsy>=0.5.2 in /usr/local/lib/python3.7/dist-packages (from statsmodels!=0.12.0,>=0.11->pmdarima) (0.5.2)\n",
            "Requirement already satisfied: pyparsing!=3.0.5,>=2.0.2 in /usr/local/lib/python3.7/dist-packages (from packaging>=21.3->statsmodels!=0.12.0,>=0.11->pmdarima) (3.0.8)\n",
            "Performing stepwise search to minimize aic\n",
            " ARIMA(1,1,1)(0,0,0)[0] intercept   : AIC=-15584.604, Time=11.03 sec\n",
            " ARIMA(0,1,0)(0,0,0)[0] intercept   : AIC=-15557.800, Time=0.97 sec\n",
            " ARIMA(1,1,0)(0,0,0)[0] intercept   : AIC=-15572.036, Time=3.89 sec\n",
            " ARIMA(0,1,1)(0,0,0)[0] intercept   : AIC=-15640.795, Time=7.38 sec\n",
            " ARIMA(0,1,0)(0,0,0)[0]             : AIC=-15557.478, Time=3.89 sec\n",
            " ARIMA(0,1,2)(0,0,0)[0] intercept   : AIC=-15569.583, Time=6.24 sec\n",
            " ARIMA(1,1,2)(0,0,0)[0] intercept   : AIC=-15567.723, Time=4.41 sec\n",
            " ARIMA(0,1,1)(0,0,0)[0]             : AIC=-15563.538, Time=2.87 sec\n",
            "\n",
            "Best model:  ARIMA(0,1,1)(0,0,0)[0] intercept\n",
            "Total fit time: 40.731 seconds\n"
          ]
        }
      ]
    },
    {
      "cell_type": "code",
      "source": [
        "step_wise.summary()"
      ],
      "metadata": {
        "id": "CIk0ZzXWDUoy",
        "colab": {
          "base_uri": "https://localhost:8080/",
          "height": 597
        },
        "outputId": "2dbf43a8-033c-4ff4-b350-5889dc21cfcc"
      },
      "execution_count": null,
      "outputs": [
        {
          "output_type": "execute_result",
          "data": {
            "text/plain": [
              "<class 'statsmodels.iolib.summary.Summary'>\n",
              "\"\"\"\n",
              "                               SARIMAX Results                                \n",
              "==============================================================================\n",
              "Dep. Variable:                      y   No. Observations:                 1937\n",
              "Model:               SARIMAX(0, 1, 1)   Log Likelihood                7830.397\n",
              "Date:                Wed, 04 May 2022   AIC                         -15640.795\n",
              "Time:                        06:04:42   BIC                         -15585.111\n",
              "Sample:                             0   HQIC                        -15620.315\n",
              "                               - 1937                                         \n",
              "Covariance Type:                  opg                                         \n",
              "==============================================================================\n",
              "                 coef    std err          z      P>|z|      [0.025      0.975]\n",
              "------------------------------------------------------------------------------\n",
              "intercept   7.102e-05   5.38e-05      1.321      0.187   -3.44e-05       0.000\n",
              "Low           -0.0021      0.026     -0.081      0.936      -0.053       0.049\n",
              "High          -0.0474      0.029     -1.651      0.099      -0.104       0.009\n",
              "Open          -0.1173      0.029     -4.069      0.000      -0.174      -0.061\n",
              "Close          0.8478      0.321      2.644      0.008       0.219       1.476\n",
              "Volume         0.0019      0.001      1.346      0.178      -0.001       0.005\n",
              "Adj Close     -0.0220      0.338     -0.065      0.948      -0.684       0.640\n",
              "Mean          -0.0249      0.021     -1.206      0.228      -0.065       0.016\n",
              "ma.L1         -0.4917      0.050     -9.826      0.000      -0.590      -0.394\n",
              "sigma2       1.76e-05   2.11e-07     83.374      0.000    1.72e-05     1.8e-05\n",
              "===================================================================================\n",
              "Ljung-Box (L1) (Q):                   5.78   Jarque-Bera (JB):             17572.96\n",
              "Prob(Q):                              0.02   Prob(JB):                         0.00\n",
              "Heteroskedasticity (H):               7.46   Skew:                            -0.43\n",
              "Prob(H) (two-sided):                  0.00   Kurtosis:                        17.73\n",
              "===================================================================================\n",
              "\n",
              "Warnings:\n",
              "[1] Covariance matrix calculated using the outer product of gradients (complex-step).\n",
              "[2] Covariance matrix is singular or near-singular, with condition number 1.37e+18. Standard errors may be unstable.\n",
              "\"\"\""
            ],
            "text/html": [
              "<table class=\"simpletable\">\n",
              "<caption>SARIMAX Results</caption>\n",
              "<tr>\n",
              "  <th>Dep. Variable:</th>           <td>y</td>        <th>  No. Observations:  </th>    <td>1937</td>   \n",
              "</tr>\n",
              "<tr>\n",
              "  <th>Model:</th>           <td>SARIMAX(0, 1, 1)</td> <th>  Log Likelihood     </th>  <td>7830.397</td> \n",
              "</tr>\n",
              "<tr>\n",
              "  <th>Date:</th>            <td>Wed, 04 May 2022</td> <th>  AIC                </th> <td>-15640.795</td>\n",
              "</tr>\n",
              "<tr>\n",
              "  <th>Time:</th>                <td>06:04:42</td>     <th>  BIC                </th> <td>-15585.111</td>\n",
              "</tr>\n",
              "<tr>\n",
              "  <th>Sample:</th>                  <td>0</td>        <th>  HQIC               </th> <td>-15620.315</td>\n",
              "</tr>\n",
              "<tr>\n",
              "  <th></th>                      <td> - 1937</td>     <th>                     </th>      <td> </td>    \n",
              "</tr>\n",
              "<tr>\n",
              "  <th>Covariance Type:</th>        <td>opg</td>       <th>                     </th>      <td> </td>    \n",
              "</tr>\n",
              "</table>\n",
              "<table class=\"simpletable\">\n",
              "<tr>\n",
              "      <td></td>         <th>coef</th>     <th>std err</th>      <th>z</th>      <th>P>|z|</th>  <th>[0.025</th>    <th>0.975]</th>  \n",
              "</tr>\n",
              "<tr>\n",
              "  <th>intercept</th> <td> 7.102e-05</td> <td> 5.38e-05</td> <td>    1.321</td> <td> 0.187</td> <td>-3.44e-05</td> <td>    0.000</td>\n",
              "</tr>\n",
              "<tr>\n",
              "  <th>Low</th>       <td>   -0.0021</td> <td>    0.026</td> <td>   -0.081</td> <td> 0.936</td> <td>   -0.053</td> <td>    0.049</td>\n",
              "</tr>\n",
              "<tr>\n",
              "  <th>High</th>      <td>   -0.0474</td> <td>    0.029</td> <td>   -1.651</td> <td> 0.099</td> <td>   -0.104</td> <td>    0.009</td>\n",
              "</tr>\n",
              "<tr>\n",
              "  <th>Open</th>      <td>   -0.1173</td> <td>    0.029</td> <td>   -4.069</td> <td> 0.000</td> <td>   -0.174</td> <td>   -0.061</td>\n",
              "</tr>\n",
              "<tr>\n",
              "  <th>Close</th>     <td>    0.8478</td> <td>    0.321</td> <td>    2.644</td> <td> 0.008</td> <td>    0.219</td> <td>    1.476</td>\n",
              "</tr>\n",
              "<tr>\n",
              "  <th>Volume</th>    <td>    0.0019</td> <td>    0.001</td> <td>    1.346</td> <td> 0.178</td> <td>   -0.001</td> <td>    0.005</td>\n",
              "</tr>\n",
              "<tr>\n",
              "  <th>Adj Close</th> <td>   -0.0220</td> <td>    0.338</td> <td>   -0.065</td> <td> 0.948</td> <td>   -0.684</td> <td>    0.640</td>\n",
              "</tr>\n",
              "<tr>\n",
              "  <th>Mean</th>      <td>   -0.0249</td> <td>    0.021</td> <td>   -1.206</td> <td> 0.228</td> <td>   -0.065</td> <td>    0.016</td>\n",
              "</tr>\n",
              "<tr>\n",
              "  <th>ma.L1</th>     <td>   -0.4917</td> <td>    0.050</td> <td>   -9.826</td> <td> 0.000</td> <td>   -0.590</td> <td>   -0.394</td>\n",
              "</tr>\n",
              "<tr>\n",
              "  <th>sigma2</th>    <td>  1.76e-05</td> <td> 2.11e-07</td> <td>   83.374</td> <td> 0.000</td> <td> 1.72e-05</td> <td>  1.8e-05</td>\n",
              "</tr>\n",
              "</table>\n",
              "<table class=\"simpletable\">\n",
              "<tr>\n",
              "  <th>Ljung-Box (L1) (Q):</th>     <td>5.78</td> <th>  Jarque-Bera (JB):  </th> <td>17572.96</td>\n",
              "</tr>\n",
              "<tr>\n",
              "  <th>Prob(Q):</th>                <td>0.02</td> <th>  Prob(JB):          </th>   <td>0.00</td>  \n",
              "</tr>\n",
              "<tr>\n",
              "  <th>Heteroskedasticity (H):</th> <td>7.46</td> <th>  Skew:              </th>   <td>-0.43</td> \n",
              "</tr>\n",
              "<tr>\n",
              "  <th>Prob(H) (two-sided):</th>    <td>0.00</td> <th>  Kurtosis:          </th>   <td>17.73</td> \n",
              "</tr>\n",
              "</table><br/><br/>Warnings:<br/>[1] Covariance matrix calculated using the outer product of gradients (complex-step).<br/>[2] Covariance matrix is singular or near-singular, with condition number 1.37e+18. Standard errors may be unstable."
            ]
          },
          "metadata": {},
          "execution_count": 45
        }
      ]
    },
    {
      "cell_type": "code",
      "source": [
        "train_y.index"
      ],
      "metadata": {
        "id": "-zpONwZyEKCo",
        "colab": {
          "base_uri": "https://localhost:8080/"
        },
        "outputId": "7efae277-abbb-4288-a48c-d84f30b36650"
      },
      "execution_count": null,
      "outputs": [
        {
          "output_type": "execute_result",
          "data": {
            "text/plain": [
              "DatetimeIndex(['2008-10-01', '2008-10-02', '2008-10-03', '2008-10-06',\n",
              "               '2008-10-07', '2008-10-08', '2008-10-09', '2008-10-10',\n",
              "               '2008-10-13', '2008-10-14',\n",
              "               ...\n",
              "               '2016-05-27', '2016-05-31', '2016-06-01', '2016-06-02',\n",
              "               '2016-06-03', '2016-06-06', '2016-06-07', '2016-06-08',\n",
              "               '2016-06-09', '2016-06-10'],\n",
              "              dtype='datetime64[ns]', name='Date', length=1937, freq=None)"
            ]
          },
          "metadata": {},
          "execution_count": 46
        }
      ]
    },
    {
      "cell_type": "code",
      "source": [
        "from statsmodels.tsa.statespace.sarimax import SARIMAX\n",
        "model= SARIMAX(train_y, \n",
        " exog=train_X,\n",
        " order=(0,1,1),\n",
        " enforce_invertibility=False, enforce_stationarity=False)"
      ],
      "metadata": {
        "id": "L28-wUHLDsef",
        "colab": {
          "base_uri": "https://localhost:8080/"
        },
        "outputId": "8b1f74ce-0368-47ee-fd16-ae30bf0ffc6d"
      },
      "execution_count": null,
      "outputs": [
        {
          "output_type": "stream",
          "name": "stderr",
          "text": [
            "/usr/local/lib/python3.7/dist-packages/statsmodels/tsa/base/tsa_model.py:471: ValueWarning: A date index has been provided, but it has no associated frequency information and so will be ignored when e.g. forecasting.\n",
            "  self._init_dates(dates, freq)\n",
            "/usr/local/lib/python3.7/dist-packages/statsmodels/tsa/base/tsa_model.py:471: ValueWarning: A date index has been provided, but it has no associated frequency information and so will be ignored when e.g. forecasting.\n",
            "  self._init_dates(dates, freq)\n"
          ]
        }
      ]
    },
    {
      "cell_type": "markdown",
      "source": [
        "we now fit the model"
      ],
      "metadata": {
        "id": "h2ypkGkLFwTK"
      }
    },
    {
      "cell_type": "code",
      "source": [
        "results= model.fit()"
      ],
      "metadata": {
        "id": "NMLzxmljFw1W",
        "colab": {
          "base_uri": "https://localhost:8080/"
        },
        "outputId": "309df71b-e71a-4434-acb2-d0c86f201b7a"
      },
      "execution_count": null,
      "outputs": [
        {
          "output_type": "stream",
          "name": "stderr",
          "text": [
            "/usr/local/lib/python3.7/dist-packages/statsmodels/base/model.py:606: ConvergenceWarning: Maximum Likelihood optimization failed to converge. Check mle_retvals\n",
            "  ConvergenceWarning)\n"
          ]
        }
      ]
    },
    {
      "cell_type": "markdown",
      "source": [
        "Predict or forecast the results\n",
        "\n",
        "To predict, we can predict() or forecast() methods of SARIMAX on the object returned by fitting the data.\n",
        "\n",
        "Below we use predict() and provide the start and end, along with the exog variable based on which the predictions will be made."
      ],
      "metadata": {
        "id": "jcZryu3HF4M5"
      }
    },
    {
      "cell_type": "code",
      "source": [
        "predictions= results.predict(start =train_size, end=train_size+test_size+(steps)-1,exog=test_X)"
      ],
      "metadata": {
        "id": "5D7ECQCuF6MT",
        "colab": {
          "base_uri": "https://localhost:8080/"
        },
        "outputId": "d5a305c8-be9a-4b8b-c01b-8c082bb3e84b"
      },
      "execution_count": null,
      "outputs": [
        {
          "output_type": "stream",
          "name": "stderr",
          "text": [
            "/usr/local/lib/python3.7/dist-packages/statsmodels/tsa/base/tsa_model.py:843: ValueWarning: No supported index is available. Prediction results will be given with an integer index beginning at `start`.\n",
            "  data=self.data,\n"
          ]
        }
      ]
    },
    {
      "cell_type": "code",
      "source": [
        "forecast_1= results.forecast(steps=test_size-1, exog=test_X)"
      ],
      "metadata": {
        "id": "AHBbx6EOGAyT",
        "colab": {
          "base_uri": "https://localhost:8080/"
        },
        "outputId": "6639f564-4a35-428d-ea9d-628e6fad93b3"
      },
      "execution_count": null,
      "outputs": [
        {
          "output_type": "stream",
          "name": "stderr",
          "text": [
            "/usr/local/lib/python3.7/dist-packages/statsmodels/tsa/base/tsa_model.py:843: ValueWarning: No supported index is available. Prediction results will be given with an integer index beginning at `start`.\n",
            "  data=self.data,\n"
          ]
        }
      ]
    },
    {
      "cell_type": "markdown",
      "source": [
        "Plot the predictions\n",
        "\n",
        "we now plot the predictions and the forecast\n",
        "\n",
        "We will create a data frame for string the Actual scaled stock prices"
      ],
      "metadata": {
        "id": "hv8zmwAQGEU7"
      }
    },
    {
      "cell_type": "code",
      "source": [
        "act= pd.DataFrame(scaler_output.iloc[train_size:, 0])\n"
      ],
      "metadata": {
        "id": "IE6msdV2GFNu"
      },
      "execution_count": null,
      "outputs": []
    },
    {
      "cell_type": "markdown",
      "source": [
        "We now create the data frame to store the Date, Actual and Predicted data\n"
      ],
      "metadata": {
        "id": "c4vz7jCqGMdN"
      }
    },
    {
      "cell_type": "code",
      "source": [
        "predictions=pd.DataFrame(predictions)\n",
        "predictions.reset_index(drop=True, inplace=True)\n",
        "predictions.index=test_X.index\n",
        "predictions['Actual'] = act['Stock Price next day']\n",
        "predictions.head(3)"
      ],
      "metadata": {
        "id": "z-FQ44G4GNVM",
        "colab": {
          "base_uri": "https://localhost:8080/",
          "height": 175
        },
        "outputId": "935d485e-598f-4b84-f3e7-828a8e2b7b3c"
      },
      "execution_count": null,
      "outputs": [
        {
          "output_type": "execute_result",
          "data": {
            "text/plain": [
              "            predicted_mean    Actual\n",
              "Date                                \n",
              "2016-06-13        0.389701  0.391368\n",
              "2016-06-14        0.390717  0.391844\n",
              "2016-06-15        0.389058  0.388166"
            ],
            "text/html": [
              "\n",
              "  <div id=\"df-7d24e3ac-38c3-4f46-aae3-ccc50ac03060\">\n",
              "    <div class=\"colab-df-container\">\n",
              "      <div>\n",
              "<style scoped>\n",
              "    .dataframe tbody tr th:only-of-type {\n",
              "        vertical-align: middle;\n",
              "    }\n",
              "\n",
              "    .dataframe tbody tr th {\n",
              "        vertical-align: top;\n",
              "    }\n",
              "\n",
              "    .dataframe thead th {\n",
              "        text-align: right;\n",
              "    }\n",
              "</style>\n",
              "<table border=\"1\" class=\"dataframe\">\n",
              "  <thead>\n",
              "    <tr style=\"text-align: right;\">\n",
              "      <th></th>\n",
              "      <th>predicted_mean</th>\n",
              "      <th>Actual</th>\n",
              "    </tr>\n",
              "    <tr>\n",
              "      <th>Date</th>\n",
              "      <th></th>\n",
              "      <th></th>\n",
              "    </tr>\n",
              "  </thead>\n",
              "  <tbody>\n",
              "    <tr>\n",
              "      <th>2016-06-13</th>\n",
              "      <td>0.389701</td>\n",
              "      <td>0.391368</td>\n",
              "    </tr>\n",
              "    <tr>\n",
              "      <th>2016-06-14</th>\n",
              "      <td>0.390717</td>\n",
              "      <td>0.391844</td>\n",
              "    </tr>\n",
              "    <tr>\n",
              "      <th>2016-06-15</th>\n",
              "      <td>0.389058</td>\n",
              "      <td>0.388166</td>\n",
              "    </tr>\n",
              "  </tbody>\n",
              "</table>\n",
              "</div>\n",
              "      <button class=\"colab-df-convert\" onclick=\"convertToInteractive('df-7d24e3ac-38c3-4f46-aae3-ccc50ac03060')\"\n",
              "              title=\"Convert this dataframe to an interactive table.\"\n",
              "              style=\"display:none;\">\n",
              "        \n",
              "  <svg xmlns=\"http://www.w3.org/2000/svg\" height=\"24px\"viewBox=\"0 0 24 24\"\n",
              "       width=\"24px\">\n",
              "    <path d=\"M0 0h24v24H0V0z\" fill=\"none\"/>\n",
              "    <path d=\"M18.56 5.44l.94 2.06.94-2.06 2.06-.94-2.06-.94-.94-2.06-.94 2.06-2.06.94zm-11 1L8.5 8.5l.94-2.06 2.06-.94-2.06-.94L8.5 2.5l-.94 2.06-2.06.94zm10 10l.94 2.06.94-2.06 2.06-.94-2.06-.94-.94-2.06-.94 2.06-2.06.94z\"/><path d=\"M17.41 7.96l-1.37-1.37c-.4-.4-.92-.59-1.43-.59-.52 0-1.04.2-1.43.59L10.3 9.45l-7.72 7.72c-.78.78-.78 2.05 0 2.83L4 21.41c.39.39.9.59 1.41.59.51 0 1.02-.2 1.41-.59l7.78-7.78 2.81-2.81c.8-.78.8-2.07 0-2.86zM5.41 20L4 18.59l7.72-7.72 1.47 1.35L5.41 20z\"/>\n",
              "  </svg>\n",
              "      </button>\n",
              "      \n",
              "  <style>\n",
              "    .colab-df-container {\n",
              "      display:flex;\n",
              "      flex-wrap:wrap;\n",
              "      gap: 12px;\n",
              "    }\n",
              "\n",
              "    .colab-df-convert {\n",
              "      background-color: #E8F0FE;\n",
              "      border: none;\n",
              "      border-radius: 50%;\n",
              "      cursor: pointer;\n",
              "      display: none;\n",
              "      fill: #1967D2;\n",
              "      height: 32px;\n",
              "      padding: 0 0 0 0;\n",
              "      width: 32px;\n",
              "    }\n",
              "\n",
              "    .colab-df-convert:hover {\n",
              "      background-color: #E2EBFA;\n",
              "      box-shadow: 0px 1px 2px rgba(60, 64, 67, 0.3), 0px 1px 3px 1px rgba(60, 64, 67, 0.15);\n",
              "      fill: #174EA6;\n",
              "    }\n",
              "\n",
              "    [theme=dark] .colab-df-convert {\n",
              "      background-color: #3B4455;\n",
              "      fill: #D2E3FC;\n",
              "    }\n",
              "\n",
              "    [theme=dark] .colab-df-convert:hover {\n",
              "      background-color: #434B5C;\n",
              "      box-shadow: 0px 1px 3px 1px rgba(0, 0, 0, 0.15);\n",
              "      filter: drop-shadow(0px 1px 2px rgba(0, 0, 0, 0.3));\n",
              "      fill: #FFFFFF;\n",
              "    }\n",
              "  </style>\n",
              "\n",
              "      <script>\n",
              "        const buttonEl =\n",
              "          document.querySelector('#df-7d24e3ac-38c3-4f46-aae3-ccc50ac03060 button.colab-df-convert');\n",
              "        buttonEl.style.display =\n",
              "          google.colab.kernel.accessAllowed ? 'block' : 'none';\n",
              "\n",
              "        async function convertToInteractive(key) {\n",
              "          const element = document.querySelector('#df-7d24e3ac-38c3-4f46-aae3-ccc50ac03060');\n",
              "          const dataTable =\n",
              "            await google.colab.kernel.invokeFunction('convertToInteractive',\n",
              "                                                     [key], {});\n",
              "          if (!dataTable) return;\n",
              "\n",
              "          const docLinkHtml = 'Like what you see? Visit the ' +\n",
              "            '<a target=\"_blank\" href=https://colab.research.google.com/notebooks/data_table.ipynb>data table notebook</a>'\n",
              "            + ' to learn more about interactive tables.';\n",
              "          element.innerHTML = '';\n",
              "          dataTable['output_type'] = 'display_data';\n",
              "          await google.colab.output.renderOutput(dataTable, element);\n",
              "          const docLink = document.createElement('div');\n",
              "          docLink.innerHTML = docLinkHtml;\n",
              "          element.appendChild(docLink);\n",
              "        }\n",
              "      </script>\n",
              "    </div>\n",
              "  </div>\n",
              "  "
            ]
          },
          "metadata": {},
          "execution_count": 52
        }
      ]
    },
    {
      "cell_type": "code",
      "source": [
        "predictions['Actual'].plot(figsize=(20,8), legend=True, color='blue')\n",
        "predictions['predicted_mean'].plot(legend=True, color='red', figsize=(20,8))\n"
      ],
      "metadata": {
        "id": "mlePyfIDGSNs",
        "colab": {
          "base_uri": "https://localhost:8080/",
          "height": 491
        },
        "outputId": "bdac5d58-68c1-4d5c-efce-9e64ea0a69d3"
      },
      "execution_count": null,
      "outputs": [
        {
          "output_type": "execute_result",
          "data": {
            "text/plain": [
              "<matplotlib.axes._subplots.AxesSubplot at 0x7f78866ffd50>"
            ]
          },
          "metadata": {},
          "execution_count": 58
        },
        {
          "output_type": "display_data",
          "data": {
            "text/plain": [
              "<Figure size 1440x576 with 1 Axes>"
            ],
            "image/png": "[encoded data removed]"
          },
          "metadata": {
            "needs_background": "light"
          }
        }
      ]
    },
    {
      "cell_type": "markdown",
      "source": [
        "We now create the data frame to store the Date, Actual and Forecasted data."
      ],
      "metadata": {
        "id": "rKJIFCVzG7p5"
      }
    },
    {
      "cell_type": "code",
      "source": [
        "forecast_apple= pd.DataFrame(forecast_1)\n",
        "forecast_apple.reset_index(drop=True, inplace=True)\n",
        "forecast_apple.index=test_X.index\n",
        "forecast_apple['Actual'] =scaler_output.iloc[train_size:, 0]\n"
      ],
      "metadata": {
        "id": "Kxxu_NTrG8wD"
      },
      "execution_count": null,
      "outputs": []
    },
    {
      "cell_type": "code",
      "source": [
        "forecast_apple.rename(columns={'predicted_mean':'Forecast'}, inplace=True)\n",
        "forecast_apple.head(3)"
      ],
      "metadata": {
        "id": "mZmdKcMDU-h9",
        "colab": {
          "base_uri": "https://localhost:8080/",
          "height": 175
        },
        "outputId": "0e221ada-94da-414a-b2f8-fe8286db323d"
      },
      "execution_count": null,
      "outputs": [
        {
          "output_type": "execute_result",
          "data": {
            "text/plain": [
              "            Forecast    Actual\n",
              "Date                          \n",
              "2016-06-13  0.389701  0.391368\n",
              "2016-06-14  0.390717  0.391844\n",
              "2016-06-15  0.389058  0.388166"
            ],
            "text/html": [
              "\n",
              "  <div id=\"df-39a0cb69-cb3c-4015-885d-6ca20ebc6bce\">\n",
              "    <div class=\"colab-df-container\">\n",
              "      <div>\n",
              "<style scoped>\n",
              "    .dataframe tbody tr th:only-of-type {\n",
              "        vertical-align: middle;\n",
              "    }\n",
              "\n",
              "    .dataframe tbody tr th {\n",
              "        vertical-align: top;\n",
              "    }\n",
              "\n",
              "    .dataframe thead th {\n",
              "        text-align: right;\n",
              "    }\n",
              "</style>\n",
              "<table border=\"1\" class=\"dataframe\">\n",
              "  <thead>\n",
              "    <tr style=\"text-align: right;\">\n",
              "      <th></th>\n",
              "      <th>Forecast</th>\n",
              "      <th>Actual</th>\n",
              "    </tr>\n",
              "    <tr>\n",
              "      <th>Date</th>\n",
              "      <th></th>\n",
              "      <th></th>\n",
              "    </tr>\n",
              "  </thead>\n",
              "  <tbody>\n",
              "    <tr>\n",
              "      <th>2016-06-13</th>\n",
              "      <td>0.389701</td>\n",
              "      <td>0.391368</td>\n",
              "    </tr>\n",
              "    <tr>\n",
              "      <th>2016-06-14</th>\n",
              "      <td>0.390717</td>\n",
              "      <td>0.391844</td>\n",
              "    </tr>\n",
              "    <tr>\n",
              "      <th>2016-06-15</th>\n",
              "      <td>0.389058</td>\n",
              "      <td>0.388166</td>\n",
              "    </tr>\n",
              "  </tbody>\n",
              "</table>\n",
              "</div>\n",
              "      <button class=\"colab-df-convert\" onclick=\"convertToInteractive('df-39a0cb69-cb3c-4015-885d-6ca20ebc6bce')\"\n",
              "              title=\"Convert this dataframe to an interactive table.\"\n",
              "              style=\"display:none;\">\n",
              "        \n",
              "  <svg xmlns=\"http://www.w3.org/2000/svg\" height=\"24px\"viewBox=\"0 0 24 24\"\n",
              "       width=\"24px\">\n",
              "    <path d=\"M0 0h24v24H0V0z\" fill=\"none\"/>\n",
              "    <path d=\"M18.56 5.44l.94 2.06.94-2.06 2.06-.94-2.06-.94-.94-2.06-.94 2.06-2.06.94zm-11 1L8.5 8.5l.94-2.06 2.06-.94-2.06-.94L8.5 2.5l-.94 2.06-2.06.94zm10 10l.94 2.06.94-2.06 2.06-.94-2.06-.94-.94-2.06-.94 2.06-2.06.94z\"/><path d=\"M17.41 7.96l-1.37-1.37c-.4-.4-.92-.59-1.43-.59-.52 0-1.04.2-1.43.59L10.3 9.45l-7.72 7.72c-.78.78-.78 2.05 0 2.83L4 21.41c.39.39.9.59 1.41.59.51 0 1.02-.2 1.41-.59l7.78-7.78 2.81-2.81c.8-.78.8-2.07 0-2.86zM5.41 20L4 18.59l7.72-7.72 1.47 1.35L5.41 20z\"/>\n",
              "  </svg>\n",
              "      </button>\n",
              "      \n",
              "  <style>\n",
              "    .colab-df-container {\n",
              "      display:flex;\n",
              "      flex-wrap:wrap;\n",
              "      gap: 12px;\n",
              "    }\n",
              "\n",
              "    .colab-df-convert {\n",
              "      background-color: #E8F0FE;\n",
              "      border: none;\n",
              "      border-radius: 50%;\n",
              "      cursor: pointer;\n",
              "      display: none;\n",
              "      fill: #1967D2;\n",
              "      height: 32px;\n",
              "      padding: 0 0 0 0;\n",
              "      width: 32px;\n",
              "    }\n",
              "\n",
              "    .colab-df-convert:hover {\n",
              "      background-color: #E2EBFA;\n",
              "      box-shadow: 0px 1px 2px rgba(60, 64, 67, 0.3), 0px 1px 3px 1px rgba(60, 64, 67, 0.15);\n",
              "      fill: #174EA6;\n",
              "    }\n",
              "\n",
              "    [theme=dark] .colab-df-convert {\n",
              "      background-color: #3B4455;\n",
              "      fill: #D2E3FC;\n",
              "    }\n",
              "\n",
              "    [theme=dark] .colab-df-convert:hover {\n",
              "      background-color: #434B5C;\n",
              "      box-shadow: 0px 1px 3px 1px rgba(0, 0, 0, 0.15);\n",
              "      filter: drop-shadow(0px 1px 2px rgba(0, 0, 0, 0.3));\n",
              "      fill: #FFFFFF;\n",
              "    }\n",
              "  </style>\n",
              "\n",
              "      <script>\n",
              "        const buttonEl =\n",
              "          document.querySelector('#df-39a0cb69-cb3c-4015-885d-6ca20ebc6bce button.colab-df-convert');\n",
              "        buttonEl.style.display =\n",
              "          google.colab.kernel.accessAllowed ? 'block' : 'none';\n",
              "\n",
              "        async function convertToInteractive(key) {\n",
              "          const element = document.querySelector('#df-39a0cb69-cb3c-4015-885d-6ca20ebc6bce');\n",
              "          const dataTable =\n",
              "            await google.colab.kernel.invokeFunction('convertToInteractive',\n",
              "                                                     [key], {});\n",
              "          if (!dataTable) return;\n",
              "\n",
              "          const docLinkHtml = 'Like what you see? Visit the ' +\n",
              "            '<a target=\"_blank\" href=https://colab.research.google.com/notebooks/data_table.ipynb>data table notebook</a>'\n",
              "            + ' to learn more about interactive tables.';\n",
              "          element.innerHTML = '';\n",
              "          dataTable['output_type'] = 'display_data';\n",
              "          await google.colab.output.renderOutput(dataTable, element);\n",
              "          const docLink = document.createElement('div');\n",
              "          docLink.innerHTML = docLinkHtml;\n",
              "          element.appendChild(docLink);\n",
              "        }\n",
              "      </script>\n",
              "    </div>\n",
              "  </div>\n",
              "  "
            ]
          },
          "metadata": {},
          "execution_count": 55
        }
      ]
    },
    {
      "cell_type": "markdown",
      "source": [
        "Plotting the forecast"
      ],
      "metadata": {
        "id": "Fw5paXMAHFeA"
      }
    },
    {
      "cell_type": "code",
      "source": [
        "forecast_apple['Forecast'].plot(legend=True)\n",
        "forecast_apple['Actual'].plot(legend=True)"
      ],
      "metadata": {
        "id": "trvCHLcnHHQ2",
        "colab": {
          "base_uri": "https://localhost:8080/",
          "height": 295
        },
        "outputId": "644316fe-e6cd-4a0d-bfa1-660d6072c862"
      },
      "execution_count": null,
      "outputs": [
        {
          "output_type": "execute_result",
          "data": {
            "text/plain": [
              "<matplotlib.axes._subplots.AxesSubplot at 0x7f788a36fbd0>"
            ]
          },
          "metadata": {},
          "execution_count": 57
        },
        {
          "output_type": "display_data",
          "data": {
            "text/plain": [
              "<Figure size 432x288 with 1 Axes>"
            ],
            "image/png": "[encoded data removed]"
          },
          "metadata": {
            "needs_background": "light"
          }
        }
      ]
    },
    {
      "cell_type": "markdown",
      "source": [
        "Evaluating the model\n",
        "\n",
        "We will use root mean square error for evaluating the model’s performance"
      ],
      "metadata": {
        "id": "Ya849oTUnAc1"
      }
    },
    {
      "cell_type": "code",
      "source": [
        "from statsmodels.tools.eval_measures import rmse\n",
        "error=rmse(predictions['predicted_mean'], predictions['Actual'])\n",
        "error"
      ],
      "metadata": {
        "id": "3GlVAW72nBUU",
        "colab": {
          "base_uri": "https://localhost:8080/"
        },
        "outputId": "a3f4a891-a7f5-4a67-ec26-6ded87d0e1b2"
      },
      "execution_count": null,
      "outputs": [
        {
          "output_type": "execute_result",
          "data": {
            "text/plain": [
              "0.014650051337007123"
            ]
          },
          "metadata": {},
          "execution_count": 61
        }
      ]
    }
  ]
}