{
  "cells": [
    {
      "cell_type": "markdown",
      "metadata": {
        "id": "view-in-github",
        "colab_type": "text"
      },
      "source": [
        "<a href=\"https://colab.research.google.com/github/NiteeshSingh/DS-303-Course-Project/blob/main/KNN_model.ipynb\" target=\"_parent\"><img src=\"https://colab.research.google.com/assets/colab-badge.svg\" alt=\"Open In Colab\"/></a>"
      ]
    },
    {
      "cell_type": "code",
      "execution_count": null,
      "id": "3df12df7",
      "metadata": {
        "id": "3df12df7"
      },
      "outputs": [],
      "source": [
        "#importing the libraries\n",
        "import pandas as pd\n",
        "import numpy as np\n",
        "import matplotlib.pyplot as plt\n",
        "# Read the csv file using read_csv \n",
        "# method of pandas\n",
        "#We have downloaded the past 1 year data of TSLA Industries Trading In NSE from Yahoo Finance Website\n",
        "df = pd.read_csv(r\"C:\\Users\\Manchand\\Downloads\\TSLA(2).csv\")\n"
      ]
    },
    {
      "cell_type": "code",
      "execution_count": null,
      "id": "bbf66488",
      "metadata": {
        "id": "bbf66488",
        "outputId": "6dee54e7-d894-43f5-b67c-5fb8b49cf8c7"
      },
      "outputs": [
        {
          "data": {
            "text/html": [
              "<div>\n",
              "<style scoped>\n",
              "    .dataframe tbody tr th:only-of-type {\n",
              "        vertical-align: middle;\n",
              "    }\n",
              "\n",
              "    .dataframe tbody tr th {\n",
              "        vertical-align: top;\n",
              "    }\n",
              "\n",
              "    .dataframe thead th {\n",
              "        text-align: right;\n",
              "    }\n",
              "</style>\n",
              "<table border=\"1\" class=\"dataframe\">\n",
              "  <thead>\n",
              "    <tr style=\"text-align: right;\">\n",
              "      <th></th>\n",
              "      <th>Date</th>\n",
              "      <th>Open</th>\n",
              "      <th>High</th>\n",
              "      <th>Low</th>\n",
              "      <th>Close</th>\n",
              "      <th>Adj Close</th>\n",
              "      <th>Volume</th>\n",
              "    </tr>\n",
              "  </thead>\n",
              "  <tbody>\n",
              "    <tr>\n",
              "      <th>0</th>\n",
              "      <td>2021-04-30</td>\n",
              "      <td>667.590027</td>\n",
              "      <td>715.469971</td>\n",
              "      <td>666.140015</td>\n",
              "      <td>709.440002</td>\n",
              "      <td>709.440002</td>\n",
              "      <td>40758700</td>\n",
              "    </tr>\n",
              "    <tr>\n",
              "      <th>1</th>\n",
              "      <td>2021-05-03</td>\n",
              "      <td>703.799988</td>\n",
              "      <td>706.000000</td>\n",
              "      <td>680.500000</td>\n",
              "      <td>684.900024</td>\n",
              "      <td>684.900024</td>\n",
              "      <td>27043100</td>\n",
              "    </tr>\n",
              "    <tr>\n",
              "      <th>2</th>\n",
              "      <td>2021-05-04</td>\n",
              "      <td>678.940002</td>\n",
              "      <td>683.450012</td>\n",
              "      <td>657.700012</td>\n",
              "      <td>673.599976</td>\n",
              "      <td>673.599976</td>\n",
              "      <td>29739300</td>\n",
              "    </tr>\n",
              "    <tr>\n",
              "      <th>3</th>\n",
              "      <td>2021-05-05</td>\n",
              "      <td>681.059998</td>\n",
              "      <td>685.299988</td>\n",
              "      <td>667.340027</td>\n",
              "      <td>670.940002</td>\n",
              "      <td>670.940002</td>\n",
              "      <td>21901900</td>\n",
              "    </tr>\n",
              "    <tr>\n",
              "      <th>4</th>\n",
              "      <td>2021-05-06</td>\n",
              "      <td>680.760010</td>\n",
              "      <td>681.020020</td>\n",
              "      <td>650.000000</td>\n",
              "      <td>663.539978</td>\n",
              "      <td>663.539978</td>\n",
              "      <td>27784600</td>\n",
              "    </tr>\n",
              "    <tr>\n",
              "      <th>5</th>\n",
              "      <td>2021-05-07</td>\n",
              "      <td>665.799988</td>\n",
              "      <td>690.000000</td>\n",
              "      <td>660.219971</td>\n",
              "      <td>672.369995</td>\n",
              "      <td>672.369995</td>\n",
              "      <td>23469200</td>\n",
              "    </tr>\n",
              "    <tr>\n",
              "      <th>6</th>\n",
              "      <td>2021-05-10</td>\n",
              "      <td>664.900024</td>\n",
              "      <td>665.049988</td>\n",
              "      <td>627.609985</td>\n",
              "      <td>629.039978</td>\n",
              "      <td>629.039978</td>\n",
              "      <td>31392400</td>\n",
              "    </tr>\n",
              "    <tr>\n",
              "      <th>7</th>\n",
              "      <td>2021-05-11</td>\n",
              "      <td>599.239990</td>\n",
              "      <td>627.099976</td>\n",
              "      <td>595.599976</td>\n",
              "      <td>617.200012</td>\n",
              "      <td>617.200012</td>\n",
              "      <td>46503900</td>\n",
              "    </tr>\n",
              "    <tr>\n",
              "      <th>8</th>\n",
              "      <td>2021-05-12</td>\n",
              "      <td>602.489990</td>\n",
              "      <td>620.409973</td>\n",
              "      <td>586.770020</td>\n",
              "      <td>589.890015</td>\n",
              "      <td>589.890015</td>\n",
              "      <td>33823600</td>\n",
              "    </tr>\n",
              "    <tr>\n",
              "      <th>9</th>\n",
              "      <td>2021-05-13</td>\n",
              "      <td>601.539978</td>\n",
              "      <td>606.460022</td>\n",
              "      <td>559.650024</td>\n",
              "      <td>571.690002</td>\n",
              "      <td>571.690002</td>\n",
              "      <td>44184900</td>\n",
              "    </tr>\n",
              "  </tbody>\n",
              "</table>\n",
              "</div>"
            ],
            "text/plain": [
              "         Date        Open        High         Low       Close   Adj Close  \\\n",
              "0  2021-04-30  667.590027  715.469971  666.140015  709.440002  709.440002   \n",
              "1  2021-05-03  703.799988  706.000000  680.500000  684.900024  684.900024   \n",
              "2  2021-05-04  678.940002  683.450012  657.700012  673.599976  673.599976   \n",
              "3  2021-05-05  681.059998  685.299988  667.340027  670.940002  670.940002   \n",
              "4  2021-05-06  680.760010  681.020020  650.000000  663.539978  663.539978   \n",
              "5  2021-05-07  665.799988  690.000000  660.219971  672.369995  672.369995   \n",
              "6  2021-05-10  664.900024  665.049988  627.609985  629.039978  629.039978   \n",
              "7  2021-05-11  599.239990  627.099976  595.599976  617.200012  617.200012   \n",
              "8  2021-05-12  602.489990  620.409973  586.770020  589.890015  589.890015   \n",
              "9  2021-05-13  601.539978  606.460022  559.650024  571.690002  571.690002   \n",
              "\n",
              "     Volume  \n",
              "0  40758700  \n",
              "1  27043100  \n",
              "2  29739300  \n",
              "3  21901900  \n",
              "4  27784600  \n",
              "5  23469200  \n",
              "6  31392400  \n",
              "7  46503900  \n",
              "8  33823600  \n",
              "9  44184900  "
            ]
          },
          "execution_count": 2,
          "metadata": {},
          "output_type": "execute_result"
        }
      ],
      "source": [
        "df.head(10)"
      ]
    },
    {
      "cell_type": "code",
      "execution_count": null,
      "id": "66e47f4c",
      "metadata": {
        "id": "66e47f4c",
        "outputId": "2385912a-a9e0-4f3e-e41c-aa713c110f06"
      },
      "outputs": [
        {
          "data": {
            "text/html": [
              "<div>\n",
              "<style scoped>\n",
              "    .dataframe tbody tr th:only-of-type {\n",
              "        vertical-align: middle;\n",
              "    }\n",
              "\n",
              "    .dataframe tbody tr th {\n",
              "        vertical-align: top;\n",
              "    }\n",
              "\n",
              "    .dataframe thead th {\n",
              "        text-align: right;\n",
              "    }\n",
              "</style>\n",
              "<table border=\"1\" class=\"dataframe\">\n",
              "  <thead>\n",
              "    <tr style=\"text-align: right;\">\n",
              "      <th></th>\n",
              "      <th>Open</th>\n",
              "      <th>High</th>\n",
              "      <th>Low</th>\n",
              "      <th>Close</th>\n",
              "      <th>Adj Close</th>\n",
              "      <th>Volume</th>\n",
              "    </tr>\n",
              "    <tr>\n",
              "      <th>Date</th>\n",
              "      <th></th>\n",
              "      <th></th>\n",
              "      <th></th>\n",
              "      <th></th>\n",
              "      <th></th>\n",
              "      <th></th>\n",
              "    </tr>\n",
              "  </thead>\n",
              "  <tbody>\n",
              "    <tr>\n",
              "      <th>2021-04-30</th>\n",
              "      <td>667.590027</td>\n",
              "      <td>715.469971</td>\n",
              "      <td>666.140015</td>\n",
              "      <td>709.440002</td>\n",
              "      <td>709.440002</td>\n",
              "      <td>40758700</td>\n",
              "    </tr>\n",
              "    <tr>\n",
              "      <th>2021-05-03</th>\n",
              "      <td>703.799988</td>\n",
              "      <td>706.000000</td>\n",
              "      <td>680.500000</td>\n",
              "      <td>684.900024</td>\n",
              "      <td>684.900024</td>\n",
              "      <td>27043100</td>\n",
              "    </tr>\n",
              "    <tr>\n",
              "      <th>2021-05-04</th>\n",
              "      <td>678.940002</td>\n",
              "      <td>683.450012</td>\n",
              "      <td>657.700012</td>\n",
              "      <td>673.599976</td>\n",
              "      <td>673.599976</td>\n",
              "      <td>29739300</td>\n",
              "    </tr>\n",
              "    <tr>\n",
              "      <th>2021-05-05</th>\n",
              "      <td>681.059998</td>\n",
              "      <td>685.299988</td>\n",
              "      <td>667.340027</td>\n",
              "      <td>670.940002</td>\n",
              "      <td>670.940002</td>\n",
              "      <td>21901900</td>\n",
              "    </tr>\n",
              "    <tr>\n",
              "      <th>2021-05-06</th>\n",
              "      <td>680.760010</td>\n",
              "      <td>681.020020</td>\n",
              "      <td>650.000000</td>\n",
              "      <td>663.539978</td>\n",
              "      <td>663.539978</td>\n",
              "      <td>27784600</td>\n",
              "    </tr>\n",
              "    <tr>\n",
              "      <th>2021-05-07</th>\n",
              "      <td>665.799988</td>\n",
              "      <td>690.000000</td>\n",
              "      <td>660.219971</td>\n",
              "      <td>672.369995</td>\n",
              "      <td>672.369995</td>\n",
              "      <td>23469200</td>\n",
              "    </tr>\n",
              "    <tr>\n",
              "      <th>2021-05-10</th>\n",
              "      <td>664.900024</td>\n",
              "      <td>665.049988</td>\n",
              "      <td>627.609985</td>\n",
              "      <td>629.039978</td>\n",
              "      <td>629.039978</td>\n",
              "      <td>31392400</td>\n",
              "    </tr>\n",
              "    <tr>\n",
              "      <th>2021-05-11</th>\n",
              "      <td>599.239990</td>\n",
              "      <td>627.099976</td>\n",
              "      <td>595.599976</td>\n",
              "      <td>617.200012</td>\n",
              "      <td>617.200012</td>\n",
              "      <td>46503900</td>\n",
              "    </tr>\n",
              "    <tr>\n",
              "      <th>2021-05-12</th>\n",
              "      <td>602.489990</td>\n",
              "      <td>620.409973</td>\n",
              "      <td>586.770020</td>\n",
              "      <td>589.890015</td>\n",
              "      <td>589.890015</td>\n",
              "      <td>33823600</td>\n",
              "    </tr>\n",
              "    <tr>\n",
              "      <th>2021-05-13</th>\n",
              "      <td>601.539978</td>\n",
              "      <td>606.460022</td>\n",
              "      <td>559.650024</td>\n",
              "      <td>571.690002</td>\n",
              "      <td>571.690002</td>\n",
              "      <td>44184900</td>\n",
              "    </tr>\n",
              "  </tbody>\n",
              "</table>\n",
              "</div>"
            ],
            "text/plain": [
              "                  Open        High         Low       Close   Adj Close  \\\n",
              "Date                                                                     \n",
              "2021-04-30  667.590027  715.469971  666.140015  709.440002  709.440002   \n",
              "2021-05-03  703.799988  706.000000  680.500000  684.900024  684.900024   \n",
              "2021-05-04  678.940002  683.450012  657.700012  673.599976  673.599976   \n",
              "2021-05-05  681.059998  685.299988  667.340027  670.940002  670.940002   \n",
              "2021-05-06  680.760010  681.020020  650.000000  663.539978  663.539978   \n",
              "2021-05-07  665.799988  690.000000  660.219971  672.369995  672.369995   \n",
              "2021-05-10  664.900024  665.049988  627.609985  629.039978  629.039978   \n",
              "2021-05-11  599.239990  627.099976  595.599976  617.200012  617.200012   \n",
              "2021-05-12  602.489990  620.409973  586.770020  589.890015  589.890015   \n",
              "2021-05-13  601.539978  606.460022  559.650024  571.690002  571.690002   \n",
              "\n",
              "              Volume  \n",
              "Date                  \n",
              "2021-04-30  40758700  \n",
              "2021-05-03  27043100  \n",
              "2021-05-04  29739300  \n",
              "2021-05-05  21901900  \n",
              "2021-05-06  27784600  \n",
              "2021-05-07  23469200  \n",
              "2021-05-10  31392400  \n",
              "2021-05-11  46503900  \n",
              "2021-05-12  33823600  \n",
              "2021-05-13  44184900  "
            ]
          },
          "execution_count": 3,
          "metadata": {},
          "output_type": "execute_result"
        }
      ],
      "source": [
        "# Changes The Date column as index columns\n",
        "df.index = pd.to_datetime(df['Date'])\n",
        "df\n",
        "  \n",
        "# drop The original date column\n",
        "df= df.drop(['Date'], axis='columns')\n",
        "df.head(10)"
      ]
    },
    {
      "cell_type": "code",
      "execution_count": null,
      "id": "facd2bf5",
      "metadata": {
        "id": "facd2bf5",
        "outputId": "8e134d29-bfbc-4077-bc27-6988625a4ca8"
      },
      "outputs": [
        {
          "data": {
            "text/plain": [
              "[<matplotlib.lines.Line2D at 0x2269474d340>]"
            ]
          },
          "execution_count": 4,
          "metadata": {},
          "output_type": "execute_result"
        },
        {
          "data": {
            "image/png": "[encoded data removed]",
            "text/plain": [
              "<Figure size 864x432 with 1 Axes>"
            ]
          },
          "metadata": {
            "needs_background": "light"
          },
          "output_type": "display_data"
        }
      ],
      "source": [
        "#plotting the graph of date vs closing price\n",
        "plt.figure(figsize=(12,6))\n",
        "plt.plot(df['Close'],color='blue')"
      ]
    },
    {
      "cell_type": "code",
      "execution_count": null,
      "id": "61b6b72d",
      "metadata": {
        "id": "61b6b72d",
        "outputId": "8a9eecc0-473a-428f-9dae-b04de861f801"
      },
      "outputs": [
        {
          "data": {
            "text/html": [
              "<div>\n",
              "<style scoped>\n",
              "    .dataframe tbody tr th:only-of-type {\n",
              "        vertical-align: middle;\n",
              "    }\n",
              "\n",
              "    .dataframe tbody tr th {\n",
              "        vertical-align: top;\n",
              "    }\n",
              "\n",
              "    .dataframe thead th {\n",
              "        text-align: right;\n",
              "    }\n",
              "</style>\n",
              "<table border=\"1\" class=\"dataframe\">\n",
              "  <thead>\n",
              "    <tr style=\"text-align: right;\">\n",
              "      <th></th>\n",
              "      <th>Open-Close</th>\n",
              "      <th>High-Low</th>\n",
              "    </tr>\n",
              "    <tr>\n",
              "      <th>Date</th>\n",
              "      <th></th>\n",
              "      <th></th>\n",
              "    </tr>\n",
              "  </thead>\n",
              "  <tbody>\n",
              "    <tr>\n",
              "      <th>2021-04-30</th>\n",
              "      <td>-41.849975</td>\n",
              "      <td>49.329956</td>\n",
              "    </tr>\n",
              "    <tr>\n",
              "      <th>2021-05-03</th>\n",
              "      <td>18.899964</td>\n",
              "      <td>25.500000</td>\n",
              "    </tr>\n",
              "    <tr>\n",
              "      <th>2021-05-04</th>\n",
              "      <td>5.340026</td>\n",
              "      <td>25.750000</td>\n",
              "    </tr>\n",
              "    <tr>\n",
              "      <th>2021-05-05</th>\n",
              "      <td>10.119996</td>\n",
              "      <td>17.959961</td>\n",
              "    </tr>\n",
              "    <tr>\n",
              "      <th>2021-05-06</th>\n",
              "      <td>17.220032</td>\n",
              "      <td>31.020020</td>\n",
              "    </tr>\n",
              "    <tr>\n",
              "      <th>2021-05-07</th>\n",
              "      <td>-6.570007</td>\n",
              "      <td>29.780029</td>\n",
              "    </tr>\n",
              "    <tr>\n",
              "      <th>2021-05-10</th>\n",
              "      <td>35.860046</td>\n",
              "      <td>37.440003</td>\n",
              "    </tr>\n",
              "    <tr>\n",
              "      <th>2021-05-11</th>\n",
              "      <td>-17.960022</td>\n",
              "      <td>31.500000</td>\n",
              "    </tr>\n",
              "    <tr>\n",
              "      <th>2021-05-12</th>\n",
              "      <td>12.599975</td>\n",
              "      <td>33.639953</td>\n",
              "    </tr>\n",
              "    <tr>\n",
              "      <th>2021-05-13</th>\n",
              "      <td>29.849976</td>\n",
              "      <td>46.809998</td>\n",
              "    </tr>\n",
              "  </tbody>\n",
              "</table>\n",
              "</div>"
            ],
            "text/plain": [
              "            Open-Close   High-Low\n",
              "Date                             \n",
              "2021-04-30  -41.849975  49.329956\n",
              "2021-05-03   18.899964  25.500000\n",
              "2021-05-04    5.340026  25.750000\n",
              "2021-05-05   10.119996  17.959961\n",
              "2021-05-06   17.220032  31.020020\n",
              "2021-05-07   -6.570007  29.780029\n",
              "2021-05-10   35.860046  37.440003\n",
              "2021-05-11  -17.960022  31.500000\n",
              "2021-05-12   12.599975  33.639953\n",
              "2021-05-13   29.849976  46.809998"
            ]
          },
          "execution_count": 5,
          "metadata": {},
          "output_type": "execute_result"
        }
      ],
      "source": [
        "# Create predictor variables\n",
        "df['Open-Close'] = df.Open - df.Close\n",
        "df['High-Low'] = df.High - df.Low\n",
        "df=df.dropna()\n",
        "  \n",
        "# Store all predictor variables in a variable X\n",
        "X = df[['Open-Close', 'High-Low']]\n",
        "X.head(10)"
      ]
    },
    {
      "cell_type": "code",
      "execution_count": null,
      "id": "4afeeea7",
      "metadata": {
        "id": "4afeeea7",
        "outputId": "92ebe9fe-833c-4da2-cd55-84bc2b99795b"
      },
      "outputs": [
        {
          "data": {
            "text/html": [
              "<div>\n",
              "<style scoped>\n",
              "    .dataframe tbody tr th:only-of-type {\n",
              "        vertical-align: middle;\n",
              "    }\n",
              "\n",
              "    .dataframe tbody tr th {\n",
              "        vertical-align: top;\n",
              "    }\n",
              "\n",
              "    .dataframe thead th {\n",
              "        text-align: right;\n",
              "    }\n",
              "</style>\n",
              "<table border=\"1\" class=\"dataframe\">\n",
              "  <thead>\n",
              "    <tr style=\"text-align: right;\">\n",
              "      <th></th>\n",
              "      <th>Open-Close</th>\n",
              "      <th>High-Low</th>\n",
              "    </tr>\n",
              "    <tr>\n",
              "      <th>Date</th>\n",
              "      <th></th>\n",
              "      <th></th>\n",
              "    </tr>\n",
              "  </thead>\n",
              "  <tbody>\n",
              "    <tr>\n",
              "      <th>2021-04-30</th>\n",
              "      <td>-41.849975</td>\n",
              "      <td>49.329956</td>\n",
              "    </tr>\n",
              "    <tr>\n",
              "      <th>2021-05-03</th>\n",
              "      <td>18.899964</td>\n",
              "      <td>25.500000</td>\n",
              "    </tr>\n",
              "    <tr>\n",
              "      <th>2021-05-04</th>\n",
              "      <td>5.340026</td>\n",
              "      <td>25.750000</td>\n",
              "    </tr>\n",
              "    <tr>\n",
              "      <th>2021-05-05</th>\n",
              "      <td>10.119996</td>\n",
              "      <td>17.959961</td>\n",
              "    </tr>\n",
              "    <tr>\n",
              "      <th>2021-05-06</th>\n",
              "      <td>17.220032</td>\n",
              "      <td>31.020020</td>\n",
              "    </tr>\n",
              "  </tbody>\n",
              "</table>\n",
              "</div>"
            ],
            "text/plain": [
              "            Open-Close   High-Low\n",
              "Date                             \n",
              "2021-04-30  -41.849975  49.329956\n",
              "2021-05-03   18.899964  25.500000\n",
              "2021-05-04    5.340026  25.750000\n",
              "2021-05-05   10.119996  17.959961\n",
              "2021-05-06   17.220032  31.020020"
            ]
          },
          "execution_count": 6,
          "metadata": {},
          "output_type": "execute_result"
        }
      ],
      "source": [
        "X=df[['Open-Close','High-Low']]\n",
        "X.head()"
      ]
    },
    {
      "cell_type": "code",
      "execution_count": null,
      "id": "40d05906",
      "metadata": {
        "id": "40d05906",
        "outputId": "eb4824bc-27dc-422b-f0e5-b61f34228125"
      },
      "outputs": [
        {
          "data": {
            "text/plain": [
              "array([-1, -1, -1, -1,  1, -1, -1, -1, -1,  1, -1,  1, -1,  1, -1,  1, -1,\n",
              "        1,  1, -1, -1, -1, -1,  1,  1, -1, -1,  1, -1,  1, -1,  1,  1,  1,\n",
              "       -1,  1,  1,  1, -1,  1, -1, -1, -1,  1, -1, -1,  1,  1,  1, -1, -1,\n",
              "       -1, -1,  1,  1, -1, -1, -1,  1, -1,  1,  1,  1,  1,  1,  1,  1, -1,\n",
              "        1, -1, -1,  1, -1, -1, -1,  1, -1,  1,  1,  1,  1, -1,  1,  1,  1,\n",
              "       -1, -1,  1,  1,  1,  1, -1,  1,  1,  1,  1,  1, -1,  1,  1,  1,  1,\n",
              "        1, -1,  1, -1, -1,  1, -1,  1,  1, -1,  1,  1,  1,  1,  1,  1, -1,\n",
              "        1,  1,  1,  1, -1,  1,  1,  1,  1, -1,  1,  1, -1, -1, -1,  1, -1,\n",
              "       -1, -1,  1,  1,  1,  1,  1, -1,  1, -1,  1,  1, -1, -1, -1, -1,  1,\n",
              "        1, -1,  1, -1, -1,  1, -1,  1, -1,  1,  1,  1,  1, -1, -1, -1, -1,\n",
              "        1, -1, -1, -1, -1,  1,  1,  1, -1,  1, -1, -1,  1, -1, -1, -1,  1,\n",
              "       -1,  1,  1, -1, -1, -1,  1, -1,  1,  1, -1, -1,  1,  1,  1, -1, -1,\n",
              "       -1, -1,  1,  1,  1, -1,  1, -1, -1, -1,  1,  1, -1, -1, -1,  1,  1,\n",
              "        1,  1,  1,  1,  1,  1, -1,  1,  1, -1, -1,  1,  1, -1, -1,  1, -1,\n",
              "       -1,  1,  1, -1,  1,  1, -1,  1, -1, -1, -1,  1, -1, -1, -1])"
            ]
          },
          "execution_count": 7,
          "metadata": {},
          "output_type": "execute_result"
        }
      ],
      "source": [
        "# Define Target variables  that our model will predict\n",
        "#If tomorrow’s price is greater than today’s price then we will buy the particular Stock \n",
        "#else we will have no position in buying. We will store +1 for a buy signal \n",
        "#-1 for a no position in y.\n",
        "y = np.where(df['Close'].shift(-1) > df['Close'], 1, -1)\n",
        "y"
      ]
    },
    {
      "cell_type": "code",
      "execution_count": null,
      "id": "8f98ee6a",
      "metadata": {
        "id": "8f98ee6a"
      },
      "outputs": [],
      "source": [
        "#Split the data into train and test\n",
        "from sklearn.model_selection import train_test_split\n",
        "X_train,X_test, y_train,y_test = train_test_split(X,y ,test_size=0.25,random_state=44)"
      ]
    },
    {
      "cell_type": "markdown",
      "id": "ae428233",
      "metadata": {
        "id": "ae428233"
      },
      "source": [
        "# KNN Classifier"
      ]
    },
    {
      "cell_type": "code",
      "execution_count": null,
      "id": "2ecdfb5e",
      "metadata": {
        "id": "2ecdfb5e"
      },
      "outputs": [],
      "source": [
        "from sklearn.neighbors import KNeighborsClassifier\n",
        "from sklearn import neighbors\n",
        "from sklearn.model_selection import train_test_split\n",
        "from sklearn.model_selection import GridSearchCV\n",
        "from sklearn.metrics import accuracy_score"
      ]
    },
    {
      "cell_type": "code",
      "execution_count": null,
      "id": "96f61fda",
      "metadata": {
        "id": "96f61fda",
        "outputId": "612a7ef3-bb14-4a4b-e632-f26a56e990c3"
      },
      "outputs": [
        {
          "name": "stdout",
          "output_type": "stream",
          "text": [
            "[-1 -1 -1 -1 -1 -1 -1 -1  1 -1  1 -1  1  1 -1  1  1 -1  1 -1 -1 -1  1  1\n",
            "  1 -1 -1 -1  1 -1 -1 -1  1 -1 -1 -1 -1  1 -1 -1 -1 -1 -1 -1  1  1  1 -1\n",
            " -1 -1 -1 -1  1 -1  1 -1  1 -1  1 -1 -1 -1 -1 -1]\n"
          ]
        }
      ],
      "source": [
        "parameters={'n_neighbors':[2,3,4,5,6,7,8,9,10,11,12,13,14,15]}\n",
        "knn =neighbors.KNeighborsClassifier()\n",
        "model=GridSearchCV(knn,parameters,cv=5)\n",
        "model.fit(X_train,y_train)\n",
        "predictions=model.predict(X_test)\n",
        "print(predictions)"
      ]
    },
    {
      "cell_type": "markdown",
      "id": "2abdd5ea",
      "metadata": {
        "id": "2abdd5ea"
      },
      "source": [
        "#  Classifier accuracy"
      ]
    },
    {
      "cell_type": "code",
      "execution_count": null,
      "id": "cf34e34a",
      "metadata": {
        "id": "cf34e34a",
        "outputId": "d0cf2a5b-d461-4301-f767-79560ce9291e"
      },
      "outputs": [
        {
          "name": "stdout",
          "output_type": "stream",
          "text": [
            "Train_data Accuracy: 0.73\n",
            "Test_data Accuracy: 0.47\n"
          ]
        }
      ],
      "source": [
        "accuracy_train=accuracy_score(y_train , model.predict(X_train))\n",
        "accuracy_test=accuracy_score(y_test , model.predict(X_test))\n",
        "print('Train_data Accuracy: %.2f' %accuracy_train)\n",
        "print('Test_data Accuracy: %.2f' %accuracy_test)"
      ]
    },
    {
      "cell_type": "markdown",
      "id": "c4432400",
      "metadata": {
        "id": "c4432400"
      },
      "source": [
        "# Comparing Actual and Predicted values"
      ]
    },
    {
      "cell_type": "code",
      "execution_count": null,
      "id": "ab1f4139",
      "metadata": {
        "id": "ab1f4139",
        "outputId": "f13f89df-8612-435e-cf5b-12f2b14d45de"
      },
      "outputs": [
        {
          "data": {
            "text/html": [
              "<div>\n",
              "<style scoped>\n",
              "    .dataframe tbody tr th:only-of-type {\n",
              "        vertical-align: middle;\n",
              "    }\n",
              "\n",
              "    .dataframe tbody tr th {\n",
              "        vertical-align: top;\n",
              "    }\n",
              "\n",
              "    .dataframe thead th {\n",
              "        text-align: right;\n",
              "    }\n",
              "</style>\n",
              "<table border=\"1\" class=\"dataframe\">\n",
              "  <thead>\n",
              "    <tr style=\"text-align: right;\">\n",
              "      <th></th>\n",
              "      <th>Actual Class</th>\n",
              "      <th>Predicted Class</th>\n",
              "    </tr>\n",
              "  </thead>\n",
              "  <tbody>\n",
              "    <tr>\n",
              "      <th>0</th>\n",
              "      <td>1</td>\n",
              "      <td>-1</td>\n",
              "    </tr>\n",
              "    <tr>\n",
              "      <th>1</th>\n",
              "      <td>1</td>\n",
              "      <td>-1</td>\n",
              "    </tr>\n",
              "    <tr>\n",
              "      <th>2</th>\n",
              "      <td>-1</td>\n",
              "      <td>-1</td>\n",
              "    </tr>\n",
              "    <tr>\n",
              "      <th>3</th>\n",
              "      <td>-1</td>\n",
              "      <td>-1</td>\n",
              "    </tr>\n",
              "    <tr>\n",
              "      <th>4</th>\n",
              "      <td>-1</td>\n",
              "      <td>-1</td>\n",
              "    </tr>\n",
              "    <tr>\n",
              "      <th>5</th>\n",
              "      <td>-1</td>\n",
              "      <td>-1</td>\n",
              "    </tr>\n",
              "    <tr>\n",
              "      <th>6</th>\n",
              "      <td>-1</td>\n",
              "      <td>-1</td>\n",
              "    </tr>\n",
              "    <tr>\n",
              "      <th>7</th>\n",
              "      <td>1</td>\n",
              "      <td>-1</td>\n",
              "    </tr>\n",
              "    <tr>\n",
              "      <th>8</th>\n",
              "      <td>-1</td>\n",
              "      <td>1</td>\n",
              "    </tr>\n",
              "    <tr>\n",
              "      <th>9</th>\n",
              "      <td>-1</td>\n",
              "      <td>-1</td>\n",
              "    </tr>\n",
              "  </tbody>\n",
              "</table>\n",
              "</div>"
            ],
            "text/plain": [
              "   Actual Class  Predicted Class\n",
              "0             1               -1\n",
              "1             1               -1\n",
              "2            -1               -1\n",
              "3            -1               -1\n",
              "4            -1               -1\n",
              "5            -1               -1\n",
              "6            -1               -1\n",
              "7             1               -1\n",
              "8            -1                1\n",
              "9            -1               -1"
            ]
          },
          "execution_count": 12,
          "metadata": {},
          "output_type": "execute_result"
        }
      ],
      "source": [
        "predictions_classification= model.predict(X_test)\n",
        "actual_predicted_data=pd.DataFrame({'Actual Class':y_test,'Predicted Class':predictions_classification})\n",
        "actual_predicted_data.head(10)"
      ]
    },
    {
      "cell_type": "markdown",
      "id": "7b55b65c",
      "metadata": {
        "id": "7b55b65c"
      },
      "source": [
        "# KNN Regression "
      ]
    },
    {
      "cell_type": "code",
      "execution_count": null,
      "id": "592b19b1",
      "metadata": {
        "id": "592b19b1"
      },
      "outputs": [],
      "source": [
        "y=df['Close']"
      ]
    },
    {
      "cell_type": "code",
      "execution_count": null,
      "id": "30243a9d",
      "metadata": {
        "id": "30243a9d",
        "outputId": "e2825d24-24bb-4ffa-fcef-0f060202a01e"
      },
      "outputs": [
        {
          "data": {
            "text/plain": [
              "Date\n",
              "2021-04-30    709.440002\n",
              "2021-05-03    684.900024\n",
              "2021-05-04    673.599976\n",
              "2021-05-05    670.940002\n",
              "2021-05-06    663.539978\n",
              "2021-05-07    672.369995\n",
              "2021-05-10    629.039978\n",
              "2021-05-11    617.200012\n",
              "2021-05-12    589.890015\n",
              "2021-05-13    571.690002\n",
              "Name: Close, dtype: float64"
            ]
          },
          "execution_count": 14,
          "metadata": {},
          "output_type": "execute_result"
        }
      ],
      "source": [
        "y.head(10)"
      ]
    },
    {
      "cell_type": "code",
      "execution_count": null,
      "id": "837b80bc",
      "metadata": {
        "id": "837b80bc",
        "outputId": "67f87b28-2957-4c93-bd73-7245f4be50eb"
      },
      "outputs": [
        {
          "name": "stdout",
          "output_type": "stream",
          "text": [
            "[1016.68784886  680.43357193  758.70714029  879.31856879  781.64285279\n",
            "  758.70714029  851.0635725   671.58785129  954.20856571  741.26357157\n",
            "  907.36141957  942.97571236  833.90499886  702.9928545  1008.40357314\n",
            "  843.37356557  692.2521405   775.52071271  674.3078525   965.27785379\n",
            "  818.6978585   789.3907165   988.14285279  911.539276    865.24214821\n",
            "  705.52500257  717.01142664  810.447148    822.87356557  717.26856771\n",
            "  769.18214636  861.08214893  774.28214379  989.2335685   708.41070993\n",
            "  876.99999579  721.77214264  718.56428307  802.02428336  746.04500471\n",
            "  801.71143014 1005.37928557  744.65856936 1045.527845    695.73070414\n",
            "  685.8228585   781.91071871  737.87928121 1036.88785236  807.6328605\n",
            "  813.919996    917.3485675   752.52213836 1057.91070543  958.69427493\n",
            "  807.6328605   921.70071414  725.99642943  964.42928643  935.58570629\n",
            "  694.33500457  942.22141814 1008.7385645   909.73641964]\n"
          ]
        }
      ],
      "source": [
        "from sklearn.neighbors import KNeighborsRegressor\n",
        "from sklearn import neighbors\n",
        "from sklearn.model_selection import train_test_split\n",
        "from sklearn.model_selection import GridSearchCV\n",
        "\n",
        "X_train_reg,X_test_reg, y_train_reg,y_test_reg= train_test_split(X,y ,test_size=0.25,random_state=44)\n",
        "parameters={'n_neighbors':[2,3,4,5,6,7,8,9,10,11,12,13,14,15]}\n",
        "knn_reg=neighbors.KNeighborsRegressor()\n",
        "model_reg=GridSearchCV(knn_reg,parameters,cv=5)\n",
        "model_reg.fit(X_train_reg,y_train_reg)\n",
        "predictions=model_reg.predict(X_test_reg)\n",
        "print(predictions)"
      ]
    },
    {
      "cell_type": "markdown",
      "id": "60edaf65",
      "metadata": {
        "id": "60edaf65"
      },
      "source": [
        "# Comparing Actual and predicted values"
      ]
    },
    {
      "cell_type": "code",
      "execution_count": null,
      "id": "f3794ffa",
      "metadata": {
        "id": "f3794ffa",
        "outputId": "016c1423-aabf-421d-83d7-4d44afd5eaf0"
      },
      "outputs": [
        {
          "data": {
            "text/html": [
              "<div>\n",
              "<style scoped>\n",
              "    .dataframe tbody tr th:only-of-type {\n",
              "        vertical-align: middle;\n",
              "    }\n",
              "\n",
              "    .dataframe tbody tr th {\n",
              "        vertical-align: top;\n",
              "    }\n",
              "\n",
              "    .dataframe thead th {\n",
              "        text-align: right;\n",
              "    }\n",
              "</style>\n",
              "<table border=\"1\" class=\"dataframe\">\n",
              "  <thead>\n",
              "    <tr style=\"text-align: right;\">\n",
              "      <th></th>\n",
              "      <th>Actual Closing Value</th>\n",
              "      <th>Predicted Closing Value</th>\n",
              "    </tr>\n",
              "    <tr>\n",
              "      <th>Date</th>\n",
              "      <th></th>\n",
              "      <th></th>\n",
              "    </tr>\n",
              "  </thead>\n",
              "  <tbody>\n",
              "    <tr>\n",
              "      <th>2021-10-26</th>\n",
              "      <td>1018.429993</td>\n",
              "      <td>1016.687849</td>\n",
              "    </tr>\n",
              "    <tr>\n",
              "      <th>2021-07-28</th>\n",
              "      <td>646.979980</td>\n",
              "      <td>680.433572</td>\n",
              "    </tr>\n",
              "    <tr>\n",
              "      <th>2021-07-14</th>\n",
              "      <td>653.380005</td>\n",
              "      <td>758.707140</td>\n",
              "    </tr>\n",
              "    <tr>\n",
              "      <th>2022-02-18</th>\n",
              "      <td>856.979980</td>\n",
              "      <td>879.318569</td>\n",
              "    </tr>\n",
              "    <tr>\n",
              "      <th>2021-05-11</th>\n",
              "      <td>617.200012</td>\n",
              "      <td>781.642853</td>\n",
              "    </tr>\n",
              "    <tr>\n",
              "      <th>2022-04-08</th>\n",
              "      <td>1025.489990</td>\n",
              "      <td>758.707140</td>\n",
              "    </tr>\n",
              "    <tr>\n",
              "      <th>2021-07-02</th>\n",
              "      <td>678.900024</td>\n",
              "      <td>851.063572</td>\n",
              "    </tr>\n",
              "    <tr>\n",
              "      <th>2021-07-01</th>\n",
              "      <td>677.919983</td>\n",
              "      <td>671.587851</td>\n",
              "    </tr>\n",
              "    <tr>\n",
              "      <th>2021-12-15</th>\n",
              "      <td>975.989990</td>\n",
              "      <td>954.208566</td>\n",
              "    </tr>\n",
              "    <tr>\n",
              "      <th>2022-03-09</th>\n",
              "      <td>858.969971</td>\n",
              "      <td>741.263572</td>\n",
              "    </tr>\n",
              "  </tbody>\n",
              "</table>\n",
              "</div>"
            ],
            "text/plain": [
              "            Actual Closing Value  Predicted Closing Value\n",
              "Date                                                     \n",
              "2021-10-26           1018.429993              1016.687849\n",
              "2021-07-28            646.979980               680.433572\n",
              "2021-07-14            653.380005               758.707140\n",
              "2022-02-18            856.979980               879.318569\n",
              "2021-05-11            617.200012               781.642853\n",
              "2022-04-08           1025.489990               758.707140\n",
              "2021-07-02            678.900024               851.063572\n",
              "2021-07-01            677.919983               671.587851\n",
              "2021-12-15            975.989990               954.208566\n",
              "2022-03-09            858.969971               741.263572"
            ]
          },
          "execution_count": 16,
          "metadata": {},
          "output_type": "execute_result"
        }
      ],
      "source": [
        "Regr=pd.DataFrame({'Actual Closing Value':y_test_reg,'Predicted Closing Value':predictions})\n",
        "Regr.head(10)"
      ]
    },
    {
      "cell_type": "markdown",
      "id": "99daf4ce",
      "metadata": {
        "id": "99daf4ce"
      },
      "source": [
        "# plotting the curve between actual and predicted values"
      ]
    },
    {
      "cell_type": "code",
      "execution_count": null,
      "id": "c606c278",
      "metadata": {
        "id": "c606c278",
        "outputId": "5e549a0b-4858-4aaf-ef12-33d4ac322faf"
      },
      "outputs": [
        {
          "data": {
            "text/plain": [
              "Text(0, 0.5, 'Prices')"
            ]
          },
          "execution_count": 17,
          "metadata": {},
          "output_type": "execute_result"
        },
        {
          "data": {
            "image/png": "[encoded data removed]",
            "text/plain": [
              "<Figure size 432x288 with 1 Axes>"
            ]
          },
          "metadata": {
            "needs_background": "light"
          },
          "output_type": "display_data"
        }
      ],
      "source": [
        "plt.plot(X.index,np.stack(y.values),color='red', label='Data')\n",
        "plt.plot(X.index,model_reg.predict(X),color='blue', label='model predicton')\n",
        "plt.xlabel('Date')\n",
        "plt.ylabel('Prices')"
      ]
    }
  ],
  "metadata": {
    "kernelspec": {
      "display_name": "Python 3",
      "language": "python",
      "name": "python3"
    },
    "language_info": {
      "codemirror_mode": {
        "name": "ipython",
        "version": 3
      },
      "file_extension": ".py",
      "mimetype": "text/x-python",
      "name": "python",
      "nbconvert_exporter": "python",
      "pygments_lexer": "ipython3",
      "version": "3.8.8"
    },
    "colab": {
      "name": "KNN model.ipynb",
      "provenance": [],
      "collapsed_sections": [],
      "include_colab_link": true
    }
  },
  "nbformat": 4,
  "nbformat_minor": 5
}